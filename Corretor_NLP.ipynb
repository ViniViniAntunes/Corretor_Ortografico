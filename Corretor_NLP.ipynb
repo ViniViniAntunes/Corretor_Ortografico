{
  "nbformat": 4,
  "nbformat_minor": 0,
  "metadata": {
    "colab": {
      "name": "Corretor_NLP.ipynb",
      "provenance": [],
      "collapsed_sections": [],
      "include_colab_link": true
    },
    "kernelspec": {
      "name": "python3",
      "display_name": "Python 3"
    }
  },
  "cells": [
    {
      "cell_type": "markdown",
      "metadata": {
        "id": "view-in-github",
        "colab_type": "text"
      },
      "source": [
        "<a href=\"https://colab.research.google.com/github/ViniViniAntunes/Corretor_Ortografico_NLP/blob/master/Corretor_NLP.ipynb\" target=\"_parent\"><img src=\"https://colab.research.google.com/assets/colab-badge.svg\" alt=\"Open In Colab\"/></a>"
      ]
    },
    {
      "cell_type": "markdown",
      "metadata": {
        "id": "t7auu0R-vykW",
        "colab_type": "text"
      },
      "source": [
        "# Corretor ortográfico"
      ]
    },
    {
      "cell_type": "markdown",
      "metadata": {
        "id": "nGraQ4ya00lH",
        "colab_type": "text"
      },
      "source": [
        "## 1) Conhecendo o conteúdo do arquivo.\n",
        "**O arquivo contém o texto de vários artigos publicados na plataforma da Alura. Esse conteúdo será o nosso \"corpus\".**\n",
        "**\"Corpus\", na linguística, é o conjunto de textos escritos e registros orais em uma determinada língua e que serve como base de análise.**"
      ]
    },
    {
      "cell_type": "markdown",
      "metadata": {
        "id": "C4urM7Mz566V",
        "colab_type": "text"
      },
      "source": [
        "**Primeiro abrimos o arquivo .txt e armazenamos o seu conteúdo em uma variável**"
      ]
    },
    {
      "cell_type": "code",
      "metadata": {
        "id": "tUCsORI01Xei",
        "colab_type": "code",
        "outputId": "f6e08043-15e9-4666-d1cd-1a9e03b63a40",
        "colab": {
          "base_uri": "https://localhost:8080/",
          "height": 275
        }
      },
      "source": [
        "# Abrindo o arquivo txt, armazenando o seu conteúdo em uma variável\n",
        "with open('treinamento.txt', mode='r') as f:\n",
        "    treinamento = f.read()\n",
        "\n",
        "# Mostrando uma parte do conteúdo do arquivo\n",
        "print(treinamento[:500])"
      ],
      "execution_count": 1,
      "outputs": [
        {
          "output_type": "stream",
          "text": [
            "\n",
            "\n",
            "\n",
            "imagem \n",
            "\n",
            "Temos a seguinte classe que representa um usuário no nosso sistema:\n",
            "\n",
            "java\n",
            "\n",
            "Para salvar um novo usuário, várias validações são feitas, como por exemplo: Ver se o nome só contém letras, [**o CPF só números**] e ver se o usuário possui no mínimo 18 anos. Veja o método que faz essa validação:\n",
            "\n",
            "java \n",
            "\n",
            "Suponha agora que eu tenha outra classe, a classe `Produto`, que contém um atributo nome e eu quero fazer a mesma validação que fiz para o nome do usuário: Ver se só contém letras. E aí? Vou\n"
          ],
          "name": "stdout"
        }
      ]
    },
    {
      "cell_type": "markdown",
      "metadata": {
        "id": "ycBrTu-36SGT",
        "colab_type": "text"
      },
      "source": [
        "**Depois fazemos a \"tokenização\" que nada mais é que separar o texto em \"tokens\".**\n",
        "\n",
        "**Token é uma sequência de caracteres, separados por um limitador, que pode ser um espaço em branco, pontuação ou quebra de linhas, por exemplo.**"
      ]
    },
    {
      "cell_type": "code",
      "metadata": {
        "id": "NdX_3ftr3iA4",
        "colab_type": "code",
        "outputId": "862116f3-1560-435a-9634-f3574593ea73",
        "colab": {
          "base_uri": "https://localhost:8080/",
          "height": 34
        }
      },
      "source": [
        "# Mostrando quantos caracteres têm no arquivo\n",
        "len(treinamento)"
      ],
      "execution_count": 2,
      "outputs": [
        {
          "output_type": "execute_result",
          "data": {
            "text/plain": [
              "2605046"
            ]
          },
          "metadata": {
            "tags": []
          },
          "execution_count": 2
        }
      ]
    },
    {
      "cell_type": "markdown",
      "metadata": {
        "id": "Nv7I-QYg2GVX",
        "colab_type": "text"
      },
      "source": [
        "# 2) Fatiando o conteúdo do arquivo\n",
        "**Precisamos saber quantas palavras existem e não quantos caracteres**"
      ]
    },
    {
      "cell_type": "markdown",
      "metadata": {
        "id": "24AnczLN_I0c",
        "colab_type": "text"
      },
      "source": [
        "**Usando o método split()**"
      ]
    },
    {
      "cell_type": "code",
      "metadata": {
        "id": "nqvf9AXo4i-x",
        "colab_type": "code",
        "outputId": "4eccbb3a-0ef6-4145-affc-cf6693ae8705",
        "colab": {
          "base_uri": "https://localhost:8080/",
          "height": 34
        }
      },
      "source": [
        "# Um texto de exemplo\n",
        "texto_exemplo = 'Olá, tudo bem?'\n",
        "\n",
        "# \"Tokenizando\" o texto de exemplo utilizando o método split()\n",
        "tokens = texto_exemplo.split()\n",
        "\n",
        "# Mostrando o resultado da \"tokenização\" do texto de exemplo utilizando o método split()\n",
        "print(tokens)"
      ],
      "execution_count": 3,
      "outputs": [
        {
          "output_type": "stream",
          "text": [
            "['Olá,', 'tudo', 'bem?']\n"
          ],
          "name": "stdout"
        }
      ]
    },
    {
      "cell_type": "code",
      "metadata": {
        "id": "YMgFLob25C4o",
        "colab_type": "code",
        "outputId": "d7e522e6-f144-4143-c42a-429f99e2376a",
        "colab": {
          "base_uri": "https://localhost:8080/",
          "height": 34
        }
      },
      "source": [
        "# Mostrando o tamanho da lista de tokens criadas no exemplo\n",
        "len(tokens)"
      ],
      "execution_count": 4,
      "outputs": [
        {
          "output_type": "execute_result",
          "data": {
            "text/plain": [
              "3"
            ]
          },
          "metadata": {
            "tags": []
          },
          "execution_count": 4
        }
      ]
    },
    {
      "cell_type": "markdown",
      "metadata": {
        "id": "AO02nPiD_Pcr",
        "colab_type": "text"
      },
      "source": [
        "**Usando a biblioteca nltk**"
      ]
    },
    {
      "cell_type": "code",
      "metadata": {
        "id": "CVMIHvqw5RPZ",
        "colab_type": "code",
        "outputId": "9271a8fc-feb4-4939-d8b3-5b235b1b09b7",
        "colab": {
          "base_uri": "https://localhost:8080/",
          "height": 68
        }
      },
      "source": [
        "# Importando a biblioteca nltk\n",
        "import nltk\n",
        "\n",
        "# Baixando o pacote punkt\n",
        "nltk.download('punkt')"
      ],
      "execution_count": 5,
      "outputs": [
        {
          "output_type": "stream",
          "text": [
            "[nltk_data] Downloading package punkt to /root/nltk_data...\n",
            "[nltk_data]   Package punkt is already up-to-date!\n"
          ],
          "name": "stdout"
        },
        {
          "output_type": "execute_result",
          "data": {
            "text/plain": [
              "True"
            ]
          },
          "metadata": {
            "tags": []
          },
          "execution_count": 5
        }
      ]
    },
    {
      "cell_type": "code",
      "metadata": {
        "id": "UbH45kKq75pW",
        "colab_type": "code",
        "outputId": "06e05979-56e8-43a5-8ffe-06be1e0e659f",
        "colab": {
          "base_uri": "https://localhost:8080/",
          "height": 34
        }
      },
      "source": [
        "# \"Tokenizando\" o texto de exemplo utilizando a biblioteca nltk\n",
        "palavras_separadas = nltk.tokenize.word_tokenize(texto_exemplo)\n",
        "\n",
        "# Mostrando o resultado da \"tokenização\" do texto de exemplo utilizando a biblioteca nltk\n",
        "print(palavras_separadas)"
      ],
      "execution_count": 6,
      "outputs": [
        {
          "output_type": "stream",
          "text": [
            "['Olá', ',', 'tudo', 'bem', '?']\n"
          ],
          "name": "stdout"
        }
      ]
    },
    {
      "cell_type": "code",
      "metadata": {
        "id": "NrsxPpFy8iDq",
        "colab_type": "code",
        "outputId": "e65778f0-4d2b-4b0f-edf7-a4f24746762d",
        "colab": {
          "base_uri": "https://localhost:8080/",
          "height": 34
        }
      },
      "source": [
        "# Mostrando o tamanho da lista de tokens criadas no exemplo\n",
        "len(palavras_separadas)"
      ],
      "execution_count": 7,
      "outputs": [
        {
          "output_type": "execute_result",
          "data": {
            "text/plain": [
              "5"
            ]
          },
          "metadata": {
            "tags": []
          },
          "execution_count": 7
        }
      ]
    },
    {
      "cell_type": "markdown",
      "metadata": {
        "id": "XSR43IPizO7f",
        "colab_type": "text"
      },
      "source": [
        "**Podemos notar que, utilizando a bilbioteca nltk, foi possível separar os caracteres especiais das palavras encontradas, mas eles ainda estão todos juntos em uma única lista.**"
      ]
    },
    {
      "cell_type": "markdown",
      "metadata": {
        "id": "GPSusvtM2V7a",
        "colab_type": "text"
      },
      "source": [
        "## 2.1) Separando o necessário"
      ]
    },
    {
      "cell_type": "markdown",
      "metadata": {
        "id": "xzvlxLFLA3bl",
        "colab_type": "text"
      },
      "source": [
        "**Separando somente as palavras somente**"
      ]
    },
    {
      "cell_type": "code",
      "metadata": {
        "id": "ZafaFnhh_5fZ",
        "colab_type": "code",
        "outputId": "121bb77f-1b3d-4e97-8744-d87933362ec4",
        "colab": {
          "base_uri": "https://localhost:8080/",
          "height": 34
        }
      },
      "source": [
        "# Relembrando como funciona o método isalpha()\n",
        "'/.'.isalpha()"
      ],
      "execution_count": 8,
      "outputs": [
        {
          "output_type": "execute_result",
          "data": {
            "text/plain": [
              "False"
            ]
          },
          "metadata": {
            "tags": []
          },
          "execution_count": 8
        }
      ]
    },
    {
      "cell_type": "code",
      "metadata": {
        "id": "aA_ILWYjAgRT",
        "colab_type": "code",
        "outputId": "45e15a5e-db44-4e32-d4e7-a55638278b67",
        "colab": {
          "base_uri": "https://localhost:8080/",
          "height": 34
        }
      },
      "source": [
        "# Relembrando como funciona o método isalpha()\n",
        "'à'.isalpha()"
      ],
      "execution_count": 9,
      "outputs": [
        {
          "output_type": "execute_result",
          "data": {
            "text/plain": [
              "True"
            ]
          },
          "metadata": {
            "tags": []
          },
          "execution_count": 9
        }
      ]
    },
    {
      "cell_type": "code",
      "metadata": {
        "id": "2vZDh-3T_gKk",
        "colab_type": "code",
        "outputId": "fff3bf0a-6130-4fca-ce20-deeada9a8678",
        "colab": {
          "base_uri": "https://localhost:8080/",
          "height": 34
        }
      },
      "source": [
        "# Função separa_palavras()\n",
        "def separa_palavras(lista_tokens):\n",
        "\n",
        "    # Criando uma lista vazia para armazenar as palavras separadas dos caracteres especiais\n",
        "    lista_palavras = []\n",
        "\n",
        "    # Iterando por toda a lista de tokens\n",
        "    for token in lista_tokens:\n",
        "\n",
        "        # Separando as palavras dos caracteres especiais\n",
        "        if token.isalpha():\n",
        "\n",
        "            # Armazenando somente as palavras\n",
        "            lista_palavras.append(token)\n",
        "    \n",
        "    # Retornando uma lista somente com as palavras\n",
        "    return lista_palavras\n",
        "\n",
        "# Chamando a função separa_palavras para testar\n",
        "separa_palavras(palavras_separadas)"
      ],
      "execution_count": 10,
      "outputs": [
        {
          "output_type": "execute_result",
          "data": {
            "text/plain": [
              "['Olá', 'tudo', 'bem']"
            ]
          },
          "metadata": {
            "tags": []
          },
          "execution_count": 10
        }
      ]
    },
    {
      "cell_type": "markdown",
      "metadata": {
        "id": "NtQvaZrDA9d8",
        "colab_type": "text"
      },
      "source": [
        "**Teste feito, vamos fazer o mesmo com nosso corpus**"
      ]
    },
    {
      "cell_type": "code",
      "metadata": {
        "id": "fWkScSOeAo79",
        "colab_type": "code",
        "outputId": "52bab4a7-74b4-446e-b7fc-248d6114babe",
        "colab": {
          "base_uri": "https://localhost:8080/",
          "height": 34
        }
      },
      "source": [
        "# \"Tokenizando\" o nosso corpus utilizando a biblioteca nltk\n",
        "lista_tokens = nltk.tokenize.word_tokenize(treinamento)\n",
        "\n",
        "# Chamando a função separa_palavras() passando o nosso corpus como parâmetro\n",
        "lista_palavras = separa_palavras(lista_tokens)\n",
        "\n",
        "# Mostrando o total de palavras em nosso corpus\n",
        "print(f'O número total de palavras em nosso corpus é {len(lista_palavras)}')"
      ],
      "execution_count": 11,
      "outputs": [
        {
          "output_type": "stream",
          "text": [
            "O número total de palavras em nosso corpus é 393914\n"
          ],
          "name": "stdout"
        }
      ]
    },
    {
      "cell_type": "markdown",
      "metadata": {
        "id": "IzWQzXPw5UaP",
        "colab_type": "text"
      },
      "source": [
        "**Então em nosso corpus existe tudo isso de palavras???**\n",
        "<br>\n",
        "<br>\n",
        "**A resposta virá na seção 4**"
      ]
    },
    {
      "cell_type": "code",
      "metadata": {
        "id": "s-zDMx2LW1bL",
        "colab_type": "code",
        "outputId": "38ea2f06-a0b9-4831-e29b-e4eb084e2e01",
        "colab": {
          "base_uri": "https://localhost:8080/",
          "height": 34
        }
      },
      "source": [
        "# Uma pequena amostra do resultado até aqui\n",
        "print(lista_palavras[:5])"
      ],
      "execution_count": 12,
      "outputs": [
        {
          "output_type": "stream",
          "text": [
            "['imagem', 'Temos', 'a', 'seguinte', 'classe']\n"
          ],
          "name": "stdout"
        }
      ]
    },
    {
      "cell_type": "markdown",
      "metadata": {
        "id": "j5KnRUUY3YuH",
        "colab_type": "text"
      },
      "source": [
        "# 3) Normalização\n",
        "**Normalizar as palavras é simplesmente deixaá-las noum mesmo padrão, por exemplo, passar todas as letras para minúsculas**\n",
        "<br>\n",
        "<br>\n",
        "**Essa etapa é importante para ajudar o nosso corretor a trabalhar por si só.**\n"
      ]
    },
    {
      "cell_type": "code",
      "metadata": {
        "id": "KtO0fys2WLbS",
        "colab_type": "code",
        "outputId": "c3cfee2e-bc3b-4cee-e7db-51c194c2a094",
        "colab": {
          "base_uri": "https://localhost:8080/",
          "height": 34
        }
      },
      "source": [
        "# Função normalizacao() \n",
        "def normalizacao(lista_palavras):\n",
        "    \n",
        "    # Criando uma lista vazia para armazenar as palavras normalizadas\n",
        "    lista_normalizada = []\n",
        "\n",
        "    # Iterando por toda a lista de palavras\n",
        "    for palavra in lista_palavras:\n",
        "\n",
        "        # Armazenando as palavras normalizadas\n",
        "        lista_normalizada.append(palavra.lower())\n",
        "    \n",
        "    # Retornando uma lista com as palavras normalizadas\n",
        "    return lista_normalizada\n",
        "\n",
        "# Chamando a função normalizacao()\n",
        "lista_normalizada = normalizacao(lista_palavras)\n",
        "\n",
        "# Uma pequena amostra do resultado até aqui\n",
        "print(lista_normalizada[:5])"
      ],
      "execution_count": 13,
      "outputs": [
        {
          "output_type": "stream",
          "text": [
            "['imagem', 'temos', 'a', 'seguinte', 'classe']\n"
          ],
          "name": "stdout"
        }
      ]
    },
    {
      "cell_type": "markdown",
      "metadata": {
        "id": "7zsjbHQ_45iK",
        "colab_type": "text"
      },
      "source": [
        "**Note que agora temos somente letras minúsculas**"
      ]
    },
    {
      "cell_type": "markdown",
      "metadata": {
        "id": "DzhSUN_P5CSR",
        "colab_type": "text"
      },
      "source": [
        "# 4) Mas quantas palavras de fato existem em nosso corpus?\n",
        "****"
      ]
    },
    {
      "cell_type": "markdown",
      "metadata": {
        "id": "GVoeMWmprE3i",
        "colab_type": "text"
      },
      "source": [
        "**Para responder isso, basta usarmos o método set() do Python**"
      ]
    },
    {
      "cell_type": "code",
      "metadata": {
        "id": "vRATSLQ4WLaH",
        "colab_type": "code",
        "outputId": "fa37558c-6ada-446c-a675-e4af439955f2",
        "colab": {
          "base_uri": "https://localhost:8080/",
          "height": 34
        }
      },
      "source": [
        "# Relembrando como funciona o método set() do Python\n",
        "set([1, 2, 3, 3, 3, 4, 5, 6, 6])"
      ],
      "execution_count": 14,
      "outputs": [
        {
          "output_type": "execute_result",
          "data": {
            "text/plain": [
              "{1, 2, 3, 4, 5, 6}"
            ]
          },
          "metadata": {
            "tags": []
          },
          "execution_count": 14
        }
      ]
    },
    {
      "cell_type": "code",
      "metadata": {
        "id": "z9VSxwDOWLZN",
        "colab_type": "code",
        "outputId": "c1eb9cea-30ff-4cc0-ef57-e0b1f264d356",
        "colab": {
          "base_uri": "https://localhost:8080/",
          "height": 34
        }
      },
      "source": [
        "# Mostrando o total real de palavras existentes em nosso corpus\n",
        "print(f'O número total de palavras que nosso corretor \"sabe\" de fato é {len(set(lista_normalizada))}')"
      ],
      "execution_count": 15,
      "outputs": [
        {
          "output_type": "stream",
          "text": [
            "O número total de palavras que nosso corretor \"sabe\" de fato é 17652\n"
          ],
          "name": "stdout"
        }
      ]
    },
    {
      "cell_type": "markdown",
      "metadata": {
        "id": "4Jubja6D6PQh",
        "colab_type": "text"
      },
      "source": [
        "**Segundo esse <a href=\"https://forum.duolingo.com/comment/7642297/Quantas-palavras-voc%C3%AA-precisa-saber-para-ser-fluente\" target=\"_blank\">post</a> no site <a href=\"https://pt.duolingo.com/\" target=\"_blank\">Duolingo</a>, 8000 palavras é mais do que qualquer pessoas precisa saber para ser fluente em uma língua. Nosso corretor está bem acima disso.**"
      ]
    },
    {
      "cell_type": "markdown",
      "metadata": {
        "id": "88kqXofdb34-",
        "colab_type": "text"
      },
      "source": [
        "# 5) Preparando o nosso corretor\n",
        "**Precisamos \"ensinar\" o nosso corretor a identificar erros para então poder corrigí-los. Faremso isso criando funções e cada tipo de erro um conjunto de funções será criado.**"
      ]
    },
    {
      "cell_type": "markdown",
      "metadata": {
        "id": "OddJ193o-VTW",
        "colab_type": "text"
      },
      "source": [
        "## 5.1) Erro: falta de uma letra"
      ]
    },
    {
      "cell_type": "markdown",
      "metadata": {
        "id": "h22mSzDT8VGK",
        "colab_type": "text"
      },
      "source": [
        "**Exemplo: supomos que queira digitar a palavra \"programação\", mas na hora o dedo escapa e digita-se \"programaão\".  Precisamos fatiar em duas partes a palavra no lugar exato e inserir a letra faltante entre as duas partes**"
      ]
    },
    {
      "cell_type": "code",
      "metadata": {
        "id": "mLmUnYsohghd",
        "colab_type": "code",
        "outputId": "af4c17dd-f204-4853-b29d-3ddab4c8d992",
        "colab": {
          "base_uri": "https://localhost:8080/",
          "height": 34
        }
      },
      "source": [
        "# Criando um exemplo\n",
        "palavra_exemplo = 'programaão'\n",
        "\n",
        "# Relembrando como fatiar uma string em Python\n",
        "(palavra_exemplo[:8], palavra_exemplo[8:])"
      ],
      "execution_count": 16,
      "outputs": [
        {
          "output_type": "execute_result",
          "data": {
            "text/plain": [
              "('programa', 'ão')"
            ]
          },
          "metadata": {
            "tags": []
          },
          "execution_count": 16
        }
      ]
    },
    {
      "cell_type": "code",
      "metadata": {
        "id": "JWGoENDO-05j",
        "colab_type": "code",
        "outputId": "8cf548e4-2d16-455d-ee12-344483bb5073",
        "colab": {
          "base_uri": "https://localhost:8080/",
          "height": 102
        }
      },
      "source": [
        "# Exemplo do que queremos fazer\n",
        "print(f'{palavra_exemplo[:8]} + \"a letra faltante (ç)\" + {palavra_exemplo[8:]}'\n",
        "      f'\\n\\nResulta na palavra \\n\\n\\t{palavra_exemplo[:8] + \"ç\" + palavra_exemplo[8:]}')"
      ],
      "execution_count": 17,
      "outputs": [
        {
          "output_type": "stream",
          "text": [
            "programa + \"a letra faltante (ç)\" + ão\n",
            "\n",
            "Resulta na palavra \n",
            "\n",
            "\tprogramação\n"
          ],
          "name": "stdout"
        }
      ]
    },
    {
      "cell_type": "markdown",
      "metadata": {
        "id": "lzewgWE7uTqi",
        "colab_type": "text"
      },
      "source": [
        "**Vamos fazer isso para todas as palavras que estiverem faltando uma letra. Precisamos de uma função para fazer isso.**"
      ]
    },
    {
      "cell_type": "code",
      "metadata": {
        "id": "tLy-84f7WLJP",
        "colab_type": "code",
        "outputId": "49170d88-dbbc-4fb6-de58-29a4fb634b77",
        "colab": {
          "base_uri": "https://localhost:8080/",
          "height": 34
        }
      },
      "source": [
        "# Função insere_letras()\n",
        "# Recebe uma lista de tuplas (esquerdo, direito) que corresponde aos lados \n",
        "    # esquerdo e direito da palavra fatiada em dois\n",
        "def insere_letras(fatias):\n",
        "\n",
        "    # Criando uma lista vazia para armazenar as palavras corrigidas\n",
        "    novas_palavras = []\n",
        "\n",
        "    # Variável que armazena todas as letras do alfabeto e as vogais acentuadas\n",
        "        # É daqui que nosso corretor pegará a letra faltante\n",
        "    letras = 'abcedfghijklmnopqrstuvwxyzáâàãéêèíîìóôòõúûùç'\n",
        "\n",
        "    # Iterando por todas as tuplas da lista recebida\n",
        "    for esquerdo, direito in fatias:\n",
        "\n",
        "        # Iterando por toda letra das variável letras\n",
        "        for letra in letras:\n",
        "\n",
        "            # Acrescentando todas as possibilidades de palavras possíveis\n",
        "            novas_palavras.append(esquerdo + letra + direito)\n",
        "    \n",
        "    # Retornando uma lista de possíveis palavras\n",
        "    return novas_palavras\n",
        "\n",
        "# Mostrando uma parte da lista que a função insere_letras() retorna como exemplo\n",
        "insere_letras([('programa', 'ão')])[:5]"
      ],
      "execution_count": 18,
      "outputs": [
        {
          "output_type": "execute_result",
          "data": {
            "text/plain": [
              "['programaaão', 'programabão', 'programacão', 'programaeão', 'programadão']"
            ]
          },
          "metadata": {
            "tags": []
          },
          "execution_count": 18
        }
      ]
    },
    {
      "cell_type": "code",
      "metadata": {
        "id": "VZ4XADVmyC_s",
        "colab_type": "code",
        "outputId": "f8dc9557-4938-47ed-de1b-5493eff56761",
        "colab": {
          "base_uri": "https://localhost:8080/",
          "height": 34
        }
      },
      "source": [
        "# Função gerador_palavras()\n",
        "def gerador_palavras(palavra):\n",
        "\n",
        "    # Criando uma lista vazia para armazenar as duas fatias de cada palavra\n",
        "    fatias = []\n",
        "\n",
        "    # Iterando por cada letra de cada palavra\n",
        "    for i in range(len(palavra) + 1):\n",
        "\n",
        "        # Armazenando as duas fatias em uma tupla e essa tupla em uma lista\n",
        "        fatias.append((palavra[:i], palavra[i:]))\n",
        "\n",
        "    # Chamando a função insere_letras() com a lista de tuplas das fatias \n",
        "        # recém-criadas e armazenando o retorno dessa função em uma variável\n",
        "    palavras_geradas = insere_letras(fatias)\n",
        "\n",
        "    # Retornando a lista de possíveis palavras. A palavra correta estará aí no meio\n",
        "    return palavras_geradas\n",
        "\n",
        "# Chamando a função gerador_palavras() com a pallavra_exemplo como parãmetro\n",
        "    # e armazenando a lista que ela retorna em uma variável\n",
        "palavras_geradas = gerador_palavras(palavra_exemplo)\n",
        "\n",
        "# Mostrando, como exemplo, uma parte da lista que a função gerador_palavras() retorna\n",
        "print(palavras_geradas[:5])"
      ],
      "execution_count": 19,
      "outputs": [
        {
          "output_type": "stream",
          "text": [
            "['aprogramaão', 'bprogramaão', 'cprogramaão', 'eprogramaão', 'dprogramaão']\n"
          ],
          "name": "stdout"
        }
      ]
    },
    {
      "cell_type": "code",
      "metadata": {
        "id": "ilfmEmAl09bN",
        "colab_type": "code",
        "outputId": "d732187a-fea5-4793-f276-52f45b5a1cb6",
        "colab": {
          "base_uri": "https://localhost:8080/",
          "height": 34
        }
      },
      "source": [
        "# Laço para mostrar que a palavra correta está aí dentro desta lista\n",
        "for palavra in palavras_geradas:\n",
        "\n",
        "    # Selecionando a palavra correta\n",
        "    if palavra == 'programação':\n",
        "\n",
        "        # Mostrando que a palavra correta está dentro dessa lista\n",
        "        print(f'A palavra correta é \"{palavra}\" e ela está dentro da lista palavras_geradas')"
      ],
      "execution_count": 20,
      "outputs": [
        {
          "output_type": "stream",
          "text": [
            "A palavra correta é \"programação\" e ela está dentro da lista palavras_geradas\n"
          ],
          "name": "stdout"
        }
      ]
    },
    {
      "cell_type": "markdown",
      "metadata": {
        "id": "SKkcwWB52Hd_",
        "colab_type": "text"
      },
      "source": [
        "**Agora, nosso corretor tem que saber qual é a palavra correta dentro dessas inúmeras palavras geradas**"
      ]
    },
    {
      "cell_type": "code",
      "metadata": {
        "id": "k8ND6QTq2SvB",
        "colab_type": "code",
        "outputId": "60537d98-48af-4443-983b-5efb90f89451",
        "colab": {
          "base_uri": "https://localhost:8080/",
          "height": 34
        }
      },
      "source": [
        "# Mostrando a quantidade de palavras que a função gerador_palavras() \n",
        "    # retornou a partir da palavra_exemplo\n",
        "print(f'Foram geradas {len(palavras_geradas)} palavras')"
      ],
      "execution_count": 21,
      "outputs": [
        {
          "output_type": "stream",
          "text": [
            "Foram geradas 484 palavras\n"
          ],
          "name": "stdout"
        }
      ]
    },
    {
      "cell_type": "markdown",
      "metadata": {
        "id": "69JpVD8Y31kG",
        "colab_type": "text"
      },
      "source": [
        "**Faremos isso usando a função FreqDist() da biblioteca nltk. Esse método calcula a frequência que determinada palavra aparece dentro do corpus. Basta darmos qual palavra queremos saber a frequência**"
      ]
    },
    {
      "cell_type": "code",
      "metadata": {
        "id": "XTb_0pV5Uvl_",
        "colab_type": "code",
        "outputId": "c6a0fe10-be78-4d9c-d6be-72f2c5e11274",
        "colab": {
          "base_uri": "https://localhost:8080/",
          "height": 187
        }
      },
      "source": [
        "# Chamando a função FreqDist() com a lista_normalizada como parâmetro e \n",
        "    # armazenando o seu retorno em uma variável\n",
        "frequencia = nltk.FreqDist(lista_normalizada)\n",
        "\n",
        "# Calculando o total de palavras e armazenando esse número em uma variável\n",
        "total_palavras = len(lista_normalizada)\n",
        "\n",
        "# Mostrando as 10 palavras mais comuns da nossa lista_normalizada\n",
        "frequencia.most_common(10)"
      ],
      "execution_count": 22,
      "outputs": [
        {
          "output_type": "execute_result",
          "data": {
            "text/plain": [
              "[('de', 15494),\n",
              " ('o', 13966),\n",
              " ('que', 12225),\n",
              " ('a', 11034),\n",
              " ('e', 10478),\n",
              " ('para', 7694),\n",
              " ('um', 6346),\n",
              " ('é', 5881),\n",
              " ('uma', 5202),\n",
              " ('do', 5116)]"
            ]
          },
          "metadata": {
            "tags": []
          },
          "execution_count": 22
        }
      ]
    },
    {
      "cell_type": "markdown",
      "metadata": {
        "id": "el0P7tM05a0T",
        "colab_type": "text"
      },
      "source": [
        "**Com isso, podemos calcular a probabilidade de determinada palavra aparecer em nosso corpus**"
      ]
    },
    {
      "cell_type": "code",
      "metadata": {
        "id": "83RJUAYFWLXx",
        "colab_type": "code",
        "colab": {}
      },
      "source": [
        "# Função probabilidade()\n",
        "def probabilidade(palavra_gerada):\n",
        "\n",
        "    # Retorna a probabilidade de determinada palavra aparecer no nosso corpus\n",
        "    return frequencia[palavra_gerada] / total_palavras"
      ],
      "execution_count": 0,
      "outputs": []
    },
    {
      "cell_type": "code",
      "metadata": {
        "id": "uuIidScHBnph",
        "colab_type": "code",
        "colab": {}
      },
      "source": [
        "# Função corretor()\n",
        "# Recebe como parâmetro a palavra errada (faltando uma letra) e retorna ela corrigida\n",
        "def corretor(palavra_errada):\n",
        "\n",
        "    # Chama a função gerador_palavras() usando como parâmetro a palavra \n",
        "        # de forma incoreta (digitada com uma letra faltando)\n",
        "    palavras_geradas = gerador_palavras(palavra_errada)\n",
        "\n",
        "    # Selecionando a palavra com maior probabilidade de aparecer em nosso corpus\n",
        "    # Essa será a palavra correta\n",
        "    palavra_correta = max(palavras_geradas, key=probabilidade)\n",
        "\n",
        "    # Retornando a palavra corrigida\n",
        "    return palavra_correta"
      ],
      "execution_count": 0,
      "outputs": []
    },
    {
      "cell_type": "code",
      "metadata": {
        "id": "RliG-5qupCSq",
        "colab_type": "code",
        "outputId": "e9f1c885-2da2-4209-844c-ad36ea07cecc",
        "colab": {
          "base_uri": "https://localhost:8080/",
          "height": 34
        }
      },
      "source": [
        "# Recriando um exemplo, só pra não esquecer. Note que a palavra_exemplo está \n",
        "    # digitada incorretamente (faltando uma letra)\n",
        "palavra_exemplo = 'programaão'\n",
        "\n",
        "# Testando o nosso corrtor até aqui\n",
        "corretor(palavra_exemplo)"
      ],
      "execution_count": 25,
      "outputs": [
        {
          "output_type": "execute_result",
          "data": {
            "text/plain": [
              "'programação'"
            ]
          },
          "metadata": {
            "tags": []
          },
          "execution_count": 25
        }
      ]
    },
    {
      "cell_type": "code",
      "metadata": {
        "id": "PuzWd4POpeUo",
        "colab_type": "code",
        "outputId": "0deec393-efdf-4581-a3cb-de99f7de5f24",
        "colab": {
          "base_uri": "https://localhost:8080/",
          "height": 34
        }
      },
      "source": [
        "# Mais testes. Agora com a palavra \"lógica\"\n",
        "teste = 'lgica'\n",
        "print(f'Você quis dizer: {corretor(teste)}')"
      ],
      "execution_count": 26,
      "outputs": [
        {
          "output_type": "stream",
          "text": [
            "Você quis dizer: lógica\n"
          ],
          "name": "stdout"
        }
      ]
    },
    {
      "cell_type": "markdown",
      "metadata": {
        "id": "_wLlMrwP7XCn",
        "colab_type": "text"
      },
      "source": [
        "**Com isso nosso corretor está preparado para corrigir palavras digitadas com uma letra falatando.**\n",
        "<br>\n",
        "<br>\n",
        "**Precisamos agora avaliar a qualidade de nosso corretor.**"
      ]
    },
    {
      "cell_type": "markdown",
      "metadata": {
        "id": "sEo0nmd272aZ",
        "colab_type": "text"
      },
      "source": [
        "### Avaliando o nosso corretor"
      ]
    },
    {
      "cell_type": "code",
      "metadata": {
        "id": "Plt7u8Ihps-R",
        "colab_type": "code",
        "colab": {}
      },
      "source": [
        "# Função cria_dados_teste()\n",
        "# Recebe o nome de um arquivo com uma série de palavras digitadas correta e \n",
        "    # incorretamente para podermos avaliar o nosso corretor\n",
        "def cria_dados_teste(nome_arquivo):\n",
        "\n",
        "    # Criando um lista vazia para armazenar as palavras de teste\n",
        "    lista_palavras_teste = []\n",
        "\n",
        "    # Abre o arquivo em mode de leitura\n",
        "    f = open(nome_arquivo, 'r')\n",
        "\n",
        "    # Iterando em toda linha do conteúdo do arquivo de teste\n",
        "    for linha in f:\n",
        "\n",
        "        # Separando as palavras digitadas correta e incorretamente avaliarmos\n",
        "        correta, errada = linha.split()\n",
        "\n",
        "        # Armazenando em uma lista as tuplas formadas pelas palavras \n",
        "            # digitadas correta e incorretamente\n",
        "        lista_palavras_teste.append((correta, errada))\n",
        "    \n",
        "    # Fechando o arquivo\n",
        "    f.close()\n",
        "\n",
        "    # Retornando a lista com as tuplas de palavras\n",
        "        # digitadas coreta e incorretamante\n",
        "    return lista_palavras_teste\n",
        "\n",
        "# Chamando a função cria_dados_teste() com o nome do arquivo que contém as\n",
        "    # palavras de teste\n",
        "lista_teste = cria_dados_teste('palavras.txt')"
      ],
      "execution_count": 0,
      "outputs": []
    },
    {
      "cell_type": "code",
      "metadata": {
        "id": "8XK8_T4ZtBu9",
        "colab_type": "code",
        "outputId": "2744ef04-fd47-4173-e1e0-99e7fc67ef1b",
        "colab": {
          "base_uri": "https://localhost:8080/",
          "height": 34
        }
      },
      "source": [
        "# Função avaliador()\n",
        "# Recebe uma lista com as tuplas de palavras de teste para poder\n",
        "    # avaliar o nosso corretor\n",
        "def avaliador(testes):\n",
        "\n",
        "    # Calculando o número de palavras da lista de teste\n",
        "    numero_palavras = len(testes)\n",
        "\n",
        "    # Setando um contador\n",
        "    acertou = 0\n",
        "\n",
        "    # Iterando por cada tupla dentro da lista de teste\n",
        "    for correta, errada in testes:\n",
        "\n",
        "        # Chamando a função corretor() passando cada palavra\n",
        "            # digitada incorretamente\n",
        "        palavra_corrigida = corretor(errada)\n",
        "\n",
        "        # Conferindo cada palavra para ver se ele conseguiu corrigir\n",
        "        if palavra_corrigida == correta:\n",
        "\n",
        "            # Incrementando o contador\n",
        "            acertou += 1\n",
        "    \n",
        "    # Calculando a taxa de acerto do nosso corretor\n",
        "    taxa_acerto = round(acertou * 100 / numero_palavras, 2)\n",
        "\n",
        "    # Mostrando a taxa de acerto doe nosso corretor\n",
        "    print(f'{taxa_acerto}% de {numero_palavras} palavras')\n",
        "\n",
        "# Chamando a função avaliador()\n",
        "avaliador(lista_teste)"
      ],
      "execution_count": 28,
      "outputs": [
        {
          "output_type": "stream",
          "text": [
            "1.08% de 186 palavras\n"
          ],
          "name": "stdout"
        }
      ]
    },
    {
      "cell_type": "markdown",
      "metadata": {
        "id": "F3jR8jo8-6Cf",
        "colab_type": "text"
      },
      "source": [
        "**Uma taxa vergonhosamente baixa. Depois de tanto trabalho, nosso corretor acerta 1.08% de 186 palavras teste??**\n",
        "<br>\n",
        "<br>\n",
        "**Tenha em mente que preparamos nosso corretor para corrigir apenas um tipo de erro (o erro de uma letra faltante). Precisamos incrementar mais o nosso corretor.**\n",
        "<br>\n",
        "<br>\n",
        "**Então, mãos à obra!**"
      ]
    },
    {
      "cell_type": "markdown",
      "metadata": {
        "id": "O6SEdIrx7f79",
        "colab_type": "text"
      },
      "source": [
        "## 5.2) Erro: letra a mais"
      ]
    },
    {
      "cell_type": "markdown",
      "metadata": {
        "id": "Ei_VwcI9CTvS",
        "colab_type": "text"
      },
      "source": [
        "**Exemplo: supomos que queira digitar a palavra \"programação\", mas na hora o dedo pressiona uma tecla vizinha JUNTO àquela que queríamos digitar. \"progrsamação\". (A tecla \"s\" é vizinha à tecla \"a\").**\n",
        "<br>\n",
        "<br>\n",
        "**É uma erro bastante comum, não é mesmo? Para corrigir esse erro, precisamos novamente fatiar em duas partes a palavra no lugar exato e, dessa vez, retirar a letra em excesso que se encontrará na primeira posição da fatia à direita**"
      ]
    },
    {
      "cell_type": "code",
      "metadata": {
        "id": "Q8O7vL04tBtP",
        "colab_type": "code",
        "outputId": "5db7beeb-394d-4a85-8ade-ebae80555f48",
        "colab": {
          "base_uri": "https://localhost:8080/",
          "height": 34
        }
      },
      "source": [
        "# Função deletando_caracter()\n",
        "# Recebe as fatias\n",
        "def deletando_caracter(fatias):\n",
        "\n",
        "    # Criando uma lista vazia para armazenar as palavras corrigidas\n",
        "    novas_palavras = []\n",
        "\n",
        "    # Iterando por todas as tuplas da lista recebida\n",
        "    for esquerdo, direito in fatias:\n",
        "\n",
        "        # Acrescentando todas as possibilidades de palavras possíveis\n",
        "        novas_palavras.append(esquerdo + direito[1:])\n",
        "    \n",
        "    # Retornando uma lista de possíveis palavras\n",
        "    return novas_palavras\n",
        "\n",
        "# Criando um exemplo para testarmos a nova função\n",
        "exemplo = [('progr', 'samação')]\n",
        "\n",
        "# Chamando a função deletando_caracter() passando como parâmetro um exemplo\n",
        "deletando_caracter(exemplo)"
      ],
      "execution_count": 29,
      "outputs": [
        {
          "output_type": "execute_result",
          "data": {
            "text/plain": [
              "['programação']"
            ]
          },
          "metadata": {
            "tags": []
          },
          "execution_count": 29
        }
      ]
    },
    {
      "cell_type": "markdown",
      "metadata": {
        "id": "-WZ7GncyGI7c",
        "colab_type": "text"
      },
      "source": [
        "**Vamos refatorar a função gerador_palavras() para que ele consiga corrigir também esse novo erro proposto. Assim podemos reaproveitar parte do código.**"
      ]
    },
    {
      "cell_type": "code",
      "metadata": {
        "id": "jSjYChYatBsE",
        "colab_type": "code",
        "outputId": "757eb88f-7530-4d07-ca53-2cdbeae4c545",
        "colab": {
          "base_uri": "https://localhost:8080/",
          "height": 34
        }
      },
      "source": [
        "# Refatorando a função gerador_palavras()\n",
        "def gerador_palavras(palavra):\n",
        "\n",
        "    # Criando uma lista vazia para armazenar as duas fatias de cada palavra\n",
        "    fatias = []\n",
        "\n",
        "    # Iterando por cada letra de cada palavra\n",
        "    for i in range(len(palavra) + 1):\n",
        "\n",
        "        # Armazenando as duas fatias em uma tupla e essa tupla em uma lista\n",
        "        fatias.append((palavra[:i], palavra[i:]))\n",
        "\n",
        "    # Chamando a função insere_letras() com a lista de tuplas das fatias \n",
        "        # recém-criadas e armazenando o retorno dessa função em uma variável\n",
        "    palavras_geradas = insere_letras(fatias)\n",
        "\n",
        "    # Acrescentando mais uma função\n",
        "    # É aqui que a refatoração de fato ocorre\n",
        "    palavras_geradas += deletando_caracter(fatias)\n",
        "\n",
        "    # Retornando a lista de possíveis palavras. A palavra correta estará aí no meio\n",
        "    return palavras_geradas\n",
        "\n",
        "# Criando uma palavra de exemplo para testar a nova função gerador_palavras\n",
        "palavra_exemplo = 'progrsamação'\n",
        "\n",
        "# Chamando a função gerador_palavras() com a palavra_exemplo como parãmetro\n",
        "    # e armazenando a lista que ela retorna em uma variável\n",
        "palavras_geradas = gerador_palavras(palavra_exemplo)\n",
        "\n",
        "# Mostrando, como exemplo, uma parte da lista que a função gerador_palavras() retorna\n",
        "print(palavras_geradas[:5])"
      ],
      "execution_count": 30,
      "outputs": [
        {
          "output_type": "stream",
          "text": [
            "['aprogrsamação', 'bprogrsamação', 'cprogrsamação', 'eprogrsamação', 'dprogrsamação']\n"
          ],
          "name": "stdout"
        }
      ]
    },
    {
      "cell_type": "code",
      "metadata": {
        "id": "lfQNKbTGtBpq",
        "colab_type": "code",
        "outputId": "0c1875f1-30f1-44f5-a41e-2810ec206b5b",
        "colab": {
          "base_uri": "https://localhost:8080/",
          "height": 34
        }
      },
      "source": [
        "# Laço para mostrar que a palavra correta está aí dentro desta lista\n",
        "for palavra in palavras_geradas:\n",
        "\n",
        "    # Selecionando a palavra correta\n",
        "    if palavra == 'programação':\n",
        "\n",
        "        # Mostrando que a palavra correta está dentro dessa lista\n",
        "        print(f'A palavra correta é \"{palavra}\" e ela está dentro da lista palavras_geradas')"
      ],
      "execution_count": 31,
      "outputs": [
        {
          "output_type": "stream",
          "text": [
            "A palavra correta é \"programação\" e ela está dentro da lista palavras_geradas\n"
          ],
          "name": "stdout"
        }
      ]
    },
    {
      "cell_type": "markdown",
      "metadata": {
        "colab_type": "text",
        "id": "innMJX2gH517"
      },
      "source": [
        "**Agora, nosso corretor tem que saber qual é a palavra correta dentro dessas inúmeras palavras geradas**"
      ]
    },
    {
      "cell_type": "code",
      "metadata": {
        "colab_type": "code",
        "outputId": "15ca8d35-c54f-48a6-b161-cdb3b16a07f3",
        "id": "2FUZTViiH52E",
        "colab": {
          "base_uri": "https://localhost:8080/",
          "height": 34
        }
      },
      "source": [
        "# Mostrando a quantidade de palavras que a função gerador_palavras() \n",
        "    # retornou a partir da palavra_exemplo\n",
        "print(f'Foram geradas {len(palavras_geradas)} palavras')"
      ],
      "execution_count": 32,
      "outputs": [
        {
          "output_type": "stream",
          "text": [
            "Foram geradas 585 palavras\n"
          ],
          "name": "stdout"
        }
      ]
    },
    {
      "cell_type": "markdown",
      "metadata": {
        "id": "ukGiHDqhInAd",
        "colab_type": "text"
      },
      "source": [
        "**Como apenas refatoramos a função gerador_palavras(), o nosso corretor já está preparado para corrigir os dois tipos de erros apresentados.**\n",
        "<br>\n",
        "<br>\n",
        "**Vamos agora avaliar ele novamente para vermos se ele melhora aquele resultado baixíssimo de antes.**"
      ]
    },
    {
      "cell_type": "code",
      "metadata": {
        "id": "jDrDG6-ttBoF",
        "colab_type": "code",
        "outputId": "dc065f43-c39d-4fb5-9ea2-73c0bf45eeb4",
        "colab": {
          "base_uri": "https://localhost:8080/",
          "height": 34
        }
      },
      "source": [
        "# Chamando a função que avalia o nosso corretor\n",
        "avaliador(lista_teste)"
      ],
      "execution_count": 33,
      "outputs": [
        {
          "output_type": "stream",
          "text": [
            "41.4% de 186 palavras\n"
          ],
          "name": "stdout"
        }
      ]
    },
    {
      "cell_type": "markdown",
      "metadata": {
        "id": "ZK_l8JbOJgUk",
        "colab_type": "text"
      },
      "source": [
        "**WOW!!! Foi um belo de um upgrade no resultado, não é mesmo?**\n",
        "<br>\n",
        "<br>\n",
        "**Mas não vamos parar por aqui. Sempre dá para melhorar!!**"
      ]
    },
    {
      "cell_type": "markdown",
      "metadata": {
        "id": "vuOGNJncL6aQ",
        "colab_type": "text"
      },
      "source": [
        "## 5.3) Erro: trocando letras"
      ]
    },
    {
      "cell_type": "markdown",
      "metadata": {
        "id": "T_vs3CfJMJBt",
        "colab_type": "text"
      },
      "source": [
        "**Exemplo: supomos que queríamos digitar a palavra \"programação\", mas, sem querer, pressiona uma tecla vizinha NO LUGAR da tecla que corresponde à letra correta que queríamos de fato digitar. \"progtamação\". (A tecla \"t\" é vizinha à tecla \"r\").**\n",
        "<br>\n",
        "<br>\n",
        "**É outro tipo de erro bastante comum e precisamos lidar com ele também. Para corrigir esse erro, precisamos novamente fatiar em duas partes a palavra no lugar exato mas, dessa vez, TROCAR a letra errada pela letra correta.**"
      ]
    },
    {
      "cell_type": "code",
      "metadata": {
        "id": "w3BS2fyXtBla",
        "colab_type": "code",
        "outputId": "f9514573-ecf4-45d7-fdbd-5cfc40804f16",
        "colab": {
          "base_uri": "https://localhost:8080/",
          "height": 34
        }
      },
      "source": [
        "# Função trocando_caracter()\n",
        "# Recebe uma lista de tuplas (esquerdo, direito) que corresponde aos lados \n",
        "    # esquerdo e direito da palavra fatiada em dois\n",
        "def troca_caracter(fatias):\n",
        "\n",
        "    # Criando uma lista vazia para armazenar as palavras corrigidas\n",
        "    novas_palavras = []\n",
        "\n",
        "    # Variável que armazena todas as letras do alfabeto e as vogais acentuadas\n",
        "        # É daqui que nosso corretor pegará a letra faltante\n",
        "    letras = 'abcedfghijklmnopqrstuvwxyzáâàãéêèíîìóôòõúûùç'\n",
        "\n",
        "    # Iterando por todas as tuplas da lista recebida\n",
        "    for esquerdo, direito in fatias:\n",
        "\n",
        "        # Iterando por toda letra das variável letras\n",
        "        for letra in letras:\n",
        "\n",
        "            # Acrescentando todas as possibilidades de palavras possíveis\n",
        "            novas_palavras.append(esquerdo + letra + direito[1:])\n",
        "    \n",
        "    # Retornando uma lista de possíveis palavras\n",
        "    return novas_palavras\n",
        "\n",
        "# Mostrando uma parte da lista que a função trocando_caracter() retorna como exemplo\n",
        "troca_caracter([('prog', 'tamação')])[:5]"
      ],
      "execution_count": 34,
      "outputs": [
        {
          "output_type": "execute_result",
          "data": {
            "text/plain": [
              "['progaamação', 'progbamação', 'progcamação', 'progeamação', 'progdamação']"
            ]
          },
          "metadata": {
            "tags": []
          },
          "execution_count": 34
        }
      ]
    },
    {
      "cell_type": "markdown",
      "metadata": {
        "colab_type": "text",
        "id": "PpR1Cq6XPg71"
      },
      "source": [
        "**Vamos refatorar mais uma vez a função gerador_palavras() para que ele consiga corrigir também esse novo erro proposto. Assim podemos reaproveitar parte do código.**"
      ]
    },
    {
      "cell_type": "code",
      "metadata": {
        "id": "y8TZiLVetBi3",
        "colab_type": "code",
        "outputId": "2c7107e6-0140-455d-eb7f-074ca0ae6ae3",
        "colab": {
          "base_uri": "https://localhost:8080/",
          "height": 34
        }
      },
      "source": [
        "# Refatorando mais uma vez a função gerador_palavras()\n",
        "def gerador_palavras(palavra):\n",
        "\n",
        "    # Criando uma lista vazia para armazenar as duas fatias de cada palavra\n",
        "    fatias = []\n",
        "\n",
        "    # Iterando por cada letra de cada palavra\n",
        "    for i in range(len(palavra) + 1):\n",
        "\n",
        "        # Armazenando as duas fatias em uma tupla e essa tupla em uma lista\n",
        "        fatias.append((palavra[:i], palavra[i:]))\n",
        "\n",
        "    # Chamando a função insere_letras() com a lista de tuplas das fatias \n",
        "        # recém-criadas e armazenando o retorno dessa função em uma variável\n",
        "    palavras_geradas = insere_letras(fatias)\n",
        "\n",
        "    # Primeira refatoração\n",
        "    palavras_geradas += deletando_caracter(fatias)\n",
        "\n",
        "    # Acrescentando outra função\n",
        "    # É aqui que a segunda refatoração de fato ocorre\n",
        "    palavras_geradas += troca_caracter(fatias)\n",
        "\n",
        "    # Retornando a lista de possíveis palavras. A palavra correta estará aí no meio\n",
        "    return palavras_geradas\n",
        "\n",
        "# Criando uma palavra de exemplo para testar a nova função gerador_palavras\n",
        "palavra_exemplo = 'progtamação'\n",
        "\n",
        "# Chamando a função gerador_palavras() com a palavra_exemplo como parãmetro\n",
        "    # e armazenando a lista que ela retorna em uma variável\n",
        "palavras_geradas = gerador_palavras(palavra_exemplo)\n",
        "\n",
        "# Mostrando, como exemplo, uma parte da lista que a função gerador_palavras() retorna\n",
        "print(palavras_geradas[:5])"
      ],
      "execution_count": 35,
      "outputs": [
        {
          "output_type": "stream",
          "text": [
            "['aprogtamação', 'bprogtamação', 'cprogtamação', 'eprogtamação', 'dprogtamação']\n"
          ],
          "name": "stdout"
        }
      ]
    },
    {
      "cell_type": "markdown",
      "metadata": {
        "id": "MFpiWidRdVjI",
        "colab_type": "text"
      },
      "source": [
        "**Vamos testá-lo novamente...**"
      ]
    },
    {
      "cell_type": "code",
      "metadata": {
        "id": "2ix_wXjKPO8A",
        "colab_type": "code",
        "outputId": "22ca1f98-e610-42c2-8dca-52744d37945a",
        "colab": {
          "base_uri": "https://localhost:8080/",
          "height": 34
        }
      },
      "source": [
        "# Laço para mostrar que a palavra correta está aí dentro desta lista\n",
        "for palavra in palavras_geradas:\n",
        "\n",
        "    # Selecionando a palavra correta\n",
        "    if palavra == 'programação':\n",
        "\n",
        "        # Mostrando que a palavra correta está dentro dessa lista\n",
        "        print(f'A palavra correta é \"{palavra}\" e ela está dentro da lista palavras_geradas')"
      ],
      "execution_count": 36,
      "outputs": [
        {
          "output_type": "stream",
          "text": [
            "A palavra correta é \"programação\" e ela está dentro da lista palavras_geradas\n"
          ],
          "name": "stdout"
        }
      ]
    },
    {
      "cell_type": "markdown",
      "metadata": {
        "colab_type": "text",
        "id": "vUSb6raiPz7K"
      },
      "source": [
        "**Legal! Agora, vamos prepará-lo para mais um erro de digitação.**"
      ]
    },
    {
      "cell_type": "markdown",
      "metadata": {
        "id": "3-47h-xbSVqw",
        "colab_type": "text"
      },
      "source": [
        "## 5.4) Erro: invertendo letras"
      ]
    },
    {
      "cell_type": "markdown",
      "metadata": {
        "id": "l-mehzUJShPw",
        "colab_type": "text"
      },
      "source": [
        "**Exemplo: supomos que queríamos digitar a palavra \"programação\". Mas, na pressa, trocamos a letra \"g\" com a letra \"r\" resultando em \"prorgamação\".**\n",
        "<br>\n",
        "<br>\n",
        "**Mais um tipo de erro muito comum que nosso corretor tem que ser capaz de lidar. Para corrigirmos esse erro, precisamos novamente fatiar em duas partes a palavra no lugar exato mas, dessa vez, TROCAR AS POSIÇÕES das letras de index 0 com a letra de index 1 da fatia direita.**\n",
        "<br>\n",
        "<br>\n",
        "**Você notou que estamos refatorando bastante o código do nosso corretor para aproveitar coisas já escritas anteriormente. Para esse erro, será bem parecido, então para facilitar, juntaremos todas as funcões que corrigem erros numa única célula do notebook.**"
      ]
    },
    {
      "cell_type": "markdown",
      "metadata": {
        "id": "bRvupY0rVtT4",
        "colab_type": "text"
      },
      "source": [
        "**Façamos isso então...**"
      ]
    },
    {
      "cell_type": "code",
      "metadata": {
        "id": "UOlAfeQkQaW9",
        "colab_type": "code",
        "colab": {}
      },
      "source": [
        "########################### Função insere_letras() ############################\n",
        "\n",
        "# Recebe uma lista de tuplas (esquerdo, direito) que corresponde aos lados \n",
        "    # esquerdo e direito da palavra fatiada em dois\n",
        "def insere_letras(fatias):\n",
        "\n",
        "    # Criando uma lista vazia para armazenar as palavras corrigidas\n",
        "    novas_palavras = []\n",
        "\n",
        "    # Variável que armazena todas as letras do alfabeto e as vogais acentuadas\n",
        "        # É daqui que nosso corretor pegará a letra faltante\n",
        "    letras = 'abcedfghijklmnopqrstuvwxyzáâàãéêèíîìóôòõúûùç'\n",
        "\n",
        "    # Iterando por todas as tuplas da lista recebida\n",
        "    for esquerdo, direito in fatias:\n",
        "\n",
        "        # Iterando por toda letra das variável letras\n",
        "        for letra in letras:\n",
        "\n",
        "            # Acrescentando todas as possibilidades de palavras possíveis\n",
        "            novas_palavras.append(esquerdo + letra + direito)\n",
        "    \n",
        "    # Retornando uma lista de possíveis palavras\n",
        "    return novas_palavras\n",
        "\n",
        "######################## Função deletando_caracter() ##########################\n",
        "\n",
        "# Função deletando_caracter()\n",
        "# Recebe as fatias\n",
        "def deletando_caracter(fatias):\n",
        "\n",
        "    # Criando uma lista vazia para armazenar as palavras corrigidas\n",
        "    novas_palavras = []\n",
        "\n",
        "    # Iterando por todas as tuplas da lista recebida\n",
        "    for esquerdo, direito in fatias:\n",
        "\n",
        "        # Acrescentando todas as possibilidades de palavras possíveis\n",
        "        novas_palavras.append(esquerdo + direito[1:])\n",
        "    \n",
        "    # Retornando uma lista de possíveis palavras\n",
        "    return novas_palavras\n",
        "\n",
        "######################## Função trocando_caracter() ###########################\n",
        "\n",
        "# Função trocando_caracter()\n",
        "# Recebe uma lista de tuplas (esquerdo, direito) que corresponde aos lados \n",
        "    # esquerdo e direito da palavra fatiada em dois\n",
        "def troca_caracter(fatias):\n",
        "\n",
        "    # Criando uma lista vazia para armazenar as palavras corrigidas\n",
        "    novas_palavras = []\n",
        "\n",
        "    # Variável que armazena todas as letras do alfabeto e as vogais acentuadas\n",
        "        # É daqui que nosso corretor pegará a letra faltante\n",
        "    letras = 'abcedfghijklmnopqrstuvwxyzáâàãéêèíîìóôòõúûùç'\n",
        "\n",
        "    # Iterando por todas as tuplas da lista recebida\n",
        "    for esquerdo, direito in fatias:\n",
        "\n",
        "        # Iterando por toda letra das variável letras\n",
        "        for letra in letras:\n",
        "\n",
        "            # Acrescentando todas as possibilidades de palavras possíveis\n",
        "            novas_palavras.append(esquerdo + letra + direito[1:])\n",
        "    \n",
        "    # Retornando uma lista de possíveis palavras\n",
        "    return novas_palavras\n",
        "\n",
        "####################### Função invertendo_caracter() ##########################\n",
        "\n",
        "# Função invertendo_caracter()\n",
        "# Recebe as fatias\n",
        "def invertendo_caracter(fatias):\n",
        "\n",
        "    # Criando uma lista vazia para armazenar as palavras corrigidas\n",
        "    novas_palavras = []\n",
        "\n",
        "    # Iterando por todas as tuplas da lista recebida\n",
        "    for esquerdo, direito in fatias:\n",
        "        \n",
        "        # Selecionando apenas as fatias da direita que têm mais de uma letra, \n",
        "            # pois, se não, não há o que inverter\n",
        "        if len(direito) > 1:\n",
        "            \n",
        "            # Acrescentando todas as possibilidades de palavras possíveis\n",
        "            novas_palavras.append(esquerdo + direito[1] + direito[0] + direito[2:])\n",
        "    \n",
        "    # Retornando uma lista de possíveis palavras\n",
        "    return novas_palavras\n",
        "\n",
        "######################### Função gerador_palavras() ###########################\n",
        "\n",
        "# Refatorando outra vez a função gerador_palavras()\n",
        "def gerador_palavras(palavra):\n",
        "\n",
        "    # Criando uma lista vazia para armazenar as duas fatias de cada palavra\n",
        "    fatias = []\n",
        "\n",
        "    # Iterando por cada letra de cada palavra\n",
        "    for i in range(len(palavra) + 1):\n",
        "\n",
        "        # Armazenando as duas fatias em uma tupla e essa tupla em uma lista\n",
        "        fatias.append((palavra[:i], palavra[i:]))\n",
        "\n",
        "    # Chamando a função insere_letras() com a lista de tuplas das fatias \n",
        "        # recém-criadas e armazenando o retorno dessa função em uma variável\n",
        "    palavras_geradas = insere_letras(fatias)\n",
        "\n",
        "    # Primeira refatoração\n",
        "    palavras_geradas += deletando_caracter(fatias)\n",
        "\n",
        "    # Segunda refatoração de fato ocorre\n",
        "    palavras_geradas += troca_caracter(fatias)\n",
        "\n",
        "    # Acrescentando outra função\n",
        "    # É aqui que a terceira refatoração de fato ocorre\n",
        "    palavras_geradas += invertendo_caracter(fatias)\n",
        "\n",
        "    # Retornando a lista de possíveis palavras. A palavra correta estará aí no meio\n",
        "    return palavras_geradas"
      ],
      "execution_count": 0,
      "outputs": []
    },
    {
      "cell_type": "markdown",
      "metadata": {
        "id": "7E1y1-_wdl_1",
        "colab_type": "text"
      },
      "source": [
        "**Avaliando o nosso coretor.**"
      ]
    },
    {
      "cell_type": "code",
      "metadata": {
        "id": "ZDJYIQFRRGmO",
        "colab_type": "code",
        "outputId": "92bf55db-8425-41d0-c5ac-5096f7d865c9",
        "colab": {
          "base_uri": "https://localhost:8080/",
          "height": 34
        }
      },
      "source": [
        "################################# AVALIANDO ###################################\n",
        "\n",
        "# Criando uma palavra de exemplo para testar a nova função gerador_palavras\n",
        "# Note o novvo erro de digitação\n",
        "palavra_exemplo = 'prorgamação'\n",
        "\n",
        "# Chamando a função gerador_palavras() com a palavra_exemplo como parãmetro\n",
        "    # e armazenando a lista que ela retorna em uma variável\n",
        "palavras_geradas = gerador_palavras(palavra_exemplo)\n",
        "\n",
        "# Mostrando, como exemplo, uma parte da lista que a função gerador_palavras() retorna\n",
        "print(palavras_geradas[:5])"
      ],
      "execution_count": 38,
      "outputs": [
        {
          "output_type": "stream",
          "text": [
            "['aprorgamação', 'bprorgamação', 'cprorgamação', 'eprorgamação', 'dprorgamação']\n"
          ],
          "name": "stdout"
        }
      ]
    },
    {
      "cell_type": "code",
      "metadata": {
        "id": "74RcVoAaRG3b",
        "colab_type": "code",
        "outputId": "b0412779-3af8-4ef3-8006-ee4c7d64f78f",
        "colab": {
          "base_uri": "https://localhost:8080/",
          "height": 34
        }
      },
      "source": [
        "# Laço para mostrar que a palavra correta está aí dentro desta lista\n",
        "for palavra in palavras_geradas:\n",
        "\n",
        "    # Selecionando a palavra correta\n",
        "    if palavra == 'programação':\n",
        "\n",
        "        # Mostrando que a palavra correta está dentro dessa lista\n",
        "        print(f'A palavra correta é \"{palavra}\" e ela está dentro da lista palavras_geradas')"
      ],
      "execution_count": 39,
      "outputs": [
        {
          "output_type": "stream",
          "text": [
            "A palavra correta é \"programação\" e ela está dentro da lista palavras_geradas\n"
          ],
          "name": "stdout"
        }
      ]
    },
    {
      "cell_type": "markdown",
      "metadata": {
        "colab_type": "text",
        "id": "ne4wRgTdY1u4"
      },
      "source": [
        "**Pronto! Nosso corretor já está preparado para corrigir os quatro tipos de erros apresentados.**\n",
        "<br>\n",
        "<br>\n",
        "**Avaliá-lo-emos novamente para ver o seu resultado.**"
      ]
    },
    {
      "cell_type": "code",
      "metadata": {
        "colab_type": "code",
        "outputId": "c46cd306-9bf9-491d-dffe-bdcdbd254335",
        "id": "uN0bwlB2Y1u5",
        "colab": {
          "base_uri": "https://localhost:8080/",
          "height": 34
        }
      },
      "source": [
        "# Chamando a função que avalia o nosso corretor\n",
        "avaliador(lista_teste)"
      ],
      "execution_count": 40,
      "outputs": [
        {
          "output_type": "stream",
          "text": [
            "76.34% de 186 palavras\n"
          ],
          "name": "stdout"
        }
      ]
    },
    {
      "cell_type": "markdown",
      "metadata": {
        "colab_type": "text",
        "id": "Fa4BrWpeY1u9"
      },
      "source": [
        "**YEAH!!! Mais um belo salto no resultado do teste.**\n",
        "\n",
        "**Nosso corretor está indo muito bem, porém há uma dúvida.**\n",
        "<br>\n",
        "<br>\n",
        "**Nosso algoritmo \"conhece\" um vocabulário, aquele que vem do nosso corpus. E os testes que estamos fazendo vêm de uma lista de palavras.**\n",
        "<br>\n",
        "<br>\n",
        "**Então, podem haver palavras nessa lista que nosso algoritmo não conheça, certo? Logo, esses 23.66% de erro estão associados tanto ao erro real do corretor, quanto ao \"erro\" de desconhecer determinada palavra. Como ele fará a correção daquilo que ele não conhece?**"
      ]
    },
    {
      "cell_type": "markdown",
      "metadata": {
        "id": "A0a8DfWjc9rd",
        "colab_type": "text"
      },
      "source": [
        "**Primeiramente, precisamos saber qual é a porcentagem que corresponde ao desconhecimento de determinadas palavras.**\n",
        "<br>\n",
        "<br>\n",
        "**Então vamos refatorar a função avaliador para que ela possa nos fornecer também essa a porcentagem.**"
      ]
    },
    {
      "cell_type": "code",
      "metadata": {
        "id": "-ynms0ufRG_s",
        "colab_type": "code",
        "colab": {
          "base_uri": "https://localhost:8080/",
          "height": 51
        },
        "outputId": "a71a9b4d-045d-42c0-84d2-35bb659c69c0"
      },
      "source": [
        "# Função avaliador()\n",
        "# Recebe uma lista com as tuplas de palavras de teste para poder\n",
        "    # avaliar o nosso corretor\n",
        "def avaliador(testes, vocabulario):\n",
        "\n",
        "    # Calculando o número de palavras da lista de teste\n",
        "    numero_palavras = len(testes)\n",
        "\n",
        "    # Setando os contadores\n",
        "    acertou = desconhecidas = 0\n",
        "\n",
        "    # Iterando por cada tupla dentro da lista de teste\n",
        "    for correta, errada in testes:\n",
        "\n",
        "        # Chamando a função corretor() passando cada palavra\n",
        "            # digitada incorretamente\n",
        "        palavra_corrigida = corretor(errada)\n",
        "\n",
        "        # Incrementando o contador das palavras desconhecidas\n",
        "        desconhecidas += (correta not in vocabulario)\n",
        "        \n",
        "        # Conferindo cada palavra para ver se ele conseguiu corrigir\n",
        "        if palavra_corrigida == correta:\n",
        "\n",
        "            # Incrementando o contador das palavras corretas\n",
        "            acertou += 1\n",
        "    \n",
        "    # Calculando a taxa de acerto do nosso corretor\n",
        "    taxa_acerto = round(acertou * 100 / numero_palavras, 2)\n",
        "\n",
        "    # Calculando a taxa de erro referente às palavras desconhecidas\n",
        "    taxa_desconhecidas = round(desconhecidas * 100 / numero_palavras, 2)\n",
        "\n",
        "    # Mostrando a taxa de acerto doe nosso corretor\n",
        "    print(f'{taxa_acerto}% de {numero_palavras} das palavras conhecidas\\n'\n",
        "          f'e {taxa_desconhecidas}% das palavras desconhecidas')\n",
        "\n",
        "# Calculando as palavras conecidas\n",
        "vocabulario = set(lista_normalizada)\n",
        "\n",
        "# Chamando a função avaliador()\n",
        "avaliador(lista_teste, vocabulario)"
      ],
      "execution_count": 41,
      "outputs": [
        {
          "output_type": "stream",
          "text": [
            "76.34% de 186 das palavras conhecidas\n",
            "e 6.99% das palavras desconhecidas\n"
          ],
          "name": "stdout"
        }
      ]
    },
    {
      "cell_type": "markdown",
      "metadata": {
        "id": "x_o8ydKHcgj_",
        "colab_type": "text"
      },
      "source": [
        "**Pronto! Agora sabemos que 6.99% das palavras avaliadas são desconhecidas pelo nosso corretor.**"
      ]
    },
    {
      "cell_type": "markdown",
      "metadata": {
        "id": "0S4ijUamhKco",
        "colab_type": "text"
      },
      "source": [
        "## 5.5) Erro: palavras a duas letras de distância da palavra correta"
      ]
    },
    {
      "cell_type": "markdown",
      "metadata": {
        "id": "UWFt8BekfNhl",
        "colab_type": "text"
      },
      "source": [
        "**Até agora, o nosso corretor consegue corrigir palavras que estão a uma única distância da palavras correta. Ou seja, ele só consegue corrigir palavras com apenas uma letra errada a mais ou a menos.**\n",
        "<br>\n",
        "<br>\n",
        "**Por exemplo, quando digitamos \"prorrgramação\" ao invés de \"programação\".**"
      ]
    },
    {
      "cell_type": "markdown",
      "metadata": {
        "id": "RjHC3ZPqrqlw",
        "colab_type": "text"
      },
      "source": [
        " **Veja que, o jeito que está, nosso corretor não consegue corrigir esse tipo de problema.**"
      ]
    },
    {
      "cell_type": "code",
      "metadata": {
        "id": "W_A5dneUfyuJ",
        "colab_type": "code",
        "colab": {
          "base_uri": "https://localhost:8080/",
          "height": 34
        },
        "outputId": "97e7aa44-f3ef-487d-a93b-714685a3703d"
      },
      "source": [
        "palavra_exemplo = 'prorrgramação'\n",
        "corretor(palavra_exemplo)"
      ],
      "execution_count": 42,
      "outputs": [
        {
          "output_type": "execute_result",
          "data": {
            "text/plain": [
              "'aprorrgramação'"
            ]
          },
          "metadata": {
            "tags": []
          },
          "execution_count": 42
        }
      ]
    },
    {
      "cell_type": "markdown",
      "metadata": {
        "id": "LPuAB1cRr3Wk",
        "colab_type": "text"
      },
      "source": [
        "**Vamos trabalhar um pouco mais no algortimo do nosso corretor para que ele seja capaz de corrigir as palavras que estão a duas letras distância da palavra correta.**"
      ]
    },
    {
      "cell_type": "code",
      "metadata": {
        "id": "cKYUQP2niHmG",
        "colab_type": "code",
        "colab": {}
      },
      "source": [
        "# Função gerador_inception()\n",
        "def gerador_inception(palavras_geradas):\n",
        "\n",
        "    # Criando uma nova lista para armazenar as novas palavras\n",
        "    novas_palavras = []\n",
        "\n",
        "    # Iterando em cada palavra da lista recebida\n",
        "    for palavra in palavras_geradas:\n",
        "\n",
        "        # Chamando a função gerador_palavras() aqui dentro da nova função\n",
        "            # Por isso o nome gerador_inception()\n",
        "        novas_palavras += gerador_palavras(palavra)\n",
        "    \n",
        "    # Retornando as novas palavras\n",
        "    return novas_palavras"
      ],
      "execution_count": 0,
      "outputs": []
    },
    {
      "cell_type": "markdown",
      "metadata": {
        "id": "GSmeXNn6tD2A",
        "colab_type": "text"
      },
      "source": [
        "**Porém, o retorno  dessa função gerador_inception() é muito grande. E como teremos que calcular a probabilidade de cada uma dessas palavras aparecer em nosso corpus, estamos sobrecarregando o nosso corretor com cálculos desnecessários, já que a imensa maioria das palavras aí geradas são palavras que não existem.**\n",
        "<br>\n",
        "<br>\n",
        "**Vejamos...**"
      ]
    },
    {
      "cell_type": "code",
      "metadata": {
        "id": "hGkd_1KMtBi2",
        "colab_type": "code",
        "colab": {
          "base_uri": "https://localhost:8080/",
          "height": 34
        },
        "outputId": "ba863931-6f66-4c1f-ecc1-8904efc762bc"
      },
      "source": [
        "# Calculando o número de palavras geradas ao chamar a função gerador_palavras()\n",
        "    # dentro da função gerador_inception()\n",
        "palavras_geradas = gerador_inception(gerador_palavras(palavra_exemplo))\n",
        "print(f'A quantidade de possíveis palavras geradas é {len(palavras_geradas)}')"
      ],
      "execution_count": 44,
      "outputs": [
        {
          "output_type": "stream",
          "text": [
            "A quantidade de possíveis palavras geradas é 1640794\n"
          ],
          "name": "stdout"
        }
      ]
    },
    {
      "cell_type": "markdown",
      "metadata": {
        "id": "81wpghOeuS8m",
        "colab_type": "text"
      },
      "source": [
        "**E aí dentro dessa imensidão de palavras, está a palavra correta. Porém, tem muito lixo.**"
      ]
    },
    {
      "cell_type": "code",
      "metadata": {
        "id": "N3n4y1zIuP_P",
        "colab_type": "code",
        "colab": {
          "base_uri": "https://localhost:8080/",
          "height": 34
        },
        "outputId": "9653590e-fe22-49d5-c5eb-a3713dfcb095"
      },
      "source": [
        "# Mostrando que a palavra correta está nesse monte de lixo\n",
        "\n",
        "'programação' in palavras_geradas"
      ],
      "execution_count": 45,
      "outputs": [
        {
          "output_type": "execute_result",
          "data": {
            "text/plain": [
              "True"
            ]
          },
          "metadata": {
            "tags": []
          },
          "execution_count": 45
        }
      ]
    },
    {
      "cell_type": "markdown",
      "metadata": {
        "id": "C2vmumKN1LfI",
        "colab_type": "text"
      },
      "source": [
        "**Então, vamos criar uma nova função corretor que não precise calcular a probabilidade de tantas palavras que nem existem. Vamos chamá-la de corretor_super_sayajin()**"
      ]
    },
    {
      "cell_type": "code",
      "metadata": {
        "id": "JvRT_Xl8jk8w",
        "colab_type": "code",
        "colab": {}
      },
      "source": [
        "# Função corretor_super_sayajin()\n",
        "# Recebe como parâmetro a palavra errada e retorna ela corrigida\n",
        "def corretor_super_sayajin(palavra_errada):\n",
        "\n",
        "    # Chama a função gerador_palavras() usando como parâmetro a palavra \n",
        "        # escrita de forma incorreta\n",
        "    palavras_geradas = gerador_palavras(palavra_errada)\n",
        "\n",
        "    # Chamando a função gerador_inception() e armazenando o seu retorno\n",
        "        # em uma variável\n",
        "    palavras_inception = gerador_inception(palavras_geradas)\n",
        "\n",
        "    # Juntando todas as palavras geradas\n",
        "    todas_palavras = set(palavras_geradas + palavras_inception)\n",
        "\n",
        "    # Criando uma lista para armazenar os possíveis candidatos a palavra \n",
        "    candidatos = [palavra_errada]\n",
        "\n",
        "    # Iterando por todas as palavras geradas pelas duas funções\n",
        "    for palavra in todas_palavras:\n",
        "\n",
        "        # Verificando se a palavra já se encontra no vocabulário\n",
        "        if palavra in vocabulario:\n",
        "\n",
        "            # Adicionando a palvara a lista de candidatos\n",
        "            candidatos.append(palavra)\n",
        "\n",
        "    # Mostrando quantos e quais são os candidatos\n",
        "    print(f'Temos {len(candidatos)} candidatos a palavra correta.\\n'\n",
        "          f'São eles {candidatos}')\n",
        "\n",
        "    # Selecionando a palavra com maior probabilidade de aparecer em nosso corpus\n",
        "        # Essa será a palavra correta\n",
        "    palavra_correta = max(candidatos, key=probabilidade)\n",
        "\n",
        "    # Retornando a palavra corrigida\n",
        "    return palavra_correta"
      ],
      "execution_count": 0,
      "outputs": []
    },
    {
      "cell_type": "markdown",
      "metadata": {
        "id": "QZ6dMbxg4Vr7",
        "colab_type": "text"
      },
      "source": [
        "**Pronto! Agora, vamos comparar a antiga função corretor() com a nova função corretor_super_sayajin()**"
      ]
    },
    {
      "cell_type": "code",
      "metadata": {
        "id": "3BxdMk7IrONw",
        "colab_type": "code",
        "colab": {
          "base_uri": "https://localhost:8080/",
          "height": 102
        },
        "outputId": "2fa81bba-62a2-47b7-d13d-5b6976bd3bea"
      },
      "source": [
        "# Chamando a função antiga função corretor()\n",
        "antes = corretor(palavra_exemplo)\n",
        "\n",
        "# Mostrando o retorno da antiga função corretor()\n",
        "print('Antiga função corretor()\\n'\n",
        "      '========================\\n\\n'\n",
        "     f'Entrada ==> {palavra_exemplo}\\n'\n",
        "     f'Retorno ==> {antes}')"
      ],
      "execution_count": 47,
      "outputs": [
        {
          "output_type": "stream",
          "text": [
            "Antiga função corretor()\n",
            "========================\n",
            "\n",
            "Entrada ==> prorrgramação\n",
            "Retorno ==> aprorrgramação\n"
          ],
          "name": "stdout"
        }
      ]
    },
    {
      "cell_type": "code",
      "metadata": {
        "id": "UIc7i2WCrSmM",
        "colab_type": "code",
        "colab": {
          "base_uri": "https://localhost:8080/",
          "height": 187
        },
        "outputId": "17727286-3f83-49a0-f25b-9af38d2ed184"
      },
      "source": [
        "# Um print() para melhor visualizar os resultados\n",
        "print('Com a novoa função corretor_super_sayajin():\\n')\n",
        "\n",
        "# Chamando a função nova função corretor_super_sayajin()\n",
        "depois = corretor_super_sayajin(palavra_exemplo)\n",
        "\n",
        "# Mostrando o retorno da nova função corretor_super_sayajin()\n",
        "print('\\nNova função nova função corretor_super_sayajin()\\n'\n",
        "      '==============================================\\n\\n'\n",
        "     f'Entrada ==> {palavra_exemplo}\\n'\n",
        "     f'Retorno ==> {depois}')"
      ],
      "execution_count": 48,
      "outputs": [
        {
          "output_type": "stream",
          "text": [
            "Com a novoa função corretor_super_sayajin():\n",
            "\n",
            "Temos 2 candidatos a palavra correta.\n",
            "São eles ['prorrgramação', 'programação']\n",
            "\n",
            "Nova função nova função corretor_super_sayajin()\n",
            "==============================================\n",
            "\n",
            "Entrada ==> prorrgramação\n",
            "Retorno ==> programação\n"
          ],
          "name": "stdout"
        }
      ]
    },
    {
      "cell_type": "markdown",
      "metadata": {
        "id": "VP5Fok3O79Hx",
        "colab_type": "text"
      },
      "source": [
        "# 6) Avaliando os resultados do corretor final"
      ]
    },
    {
      "cell_type": "markdown",
      "metadata": {
        "id": "KJdE50DS9B3-",
        "colab_type": "text"
      },
      "source": [
        "**Antes de avaliar a nova função corretor_super_sayajin() utilizando a lista_teste, precisamos retirar o print() que existe dentro da nova função corretor_super_sayajin(), para que ela não imprima na tela quantos e quais são os possíveis candidatos para todas as 186 palavras que ele irá testar.**"
      ]
    },
    {
      "cell_type": "code",
      "metadata": {
        "id": "qJtC8Gqv64Dh",
        "colab_type": "code",
        "colab": {}
      },
      "source": [
        "# Função corretor_super_sayajin()\n",
        "# Recebe como parâmetro a palavra errada e retorna ela corrigida\n",
        "def corretor_super_sayajin(palavra_errada):\n",
        "\n",
        "    # Chama a função gerador_palavras() usando como parâmetro a palavra \n",
        "        # escrita de forma incorreta\n",
        "    palavras_geradas = gerador_palavras(palavra_errada)\n",
        "\n",
        "    # Chamando a função gerador_inception() e armazenando o seu retorno\n",
        "        # em uma variável\n",
        "    palavras_inception = gerador_inception(palavras_geradas)\n",
        "\n",
        "    # Juntando todas as palavras geradas\n",
        "    todas_palavras = set(palavras_geradas + palavras_inception)\n",
        "\n",
        "    # Criando uma lista para armazenar os possíveis candidatos a palavra \n",
        "    candidatos = [palavra_errada]\n",
        "\n",
        "    # Iterando por todas as palavras geradas pelas duas funções\n",
        "    for palavra in todas_palavras:\n",
        "\n",
        "        # Verificando se a palavra já se encontra no vocabulário\n",
        "        if palavra in vocabulario:\n",
        "\n",
        "            # Adicionando a palvara a lista de candidatos\n",
        "            candidatos.append(palavra)\n",
        "\n",
        "    # Selecionando a palavra com maior probabilidade de aparecer em nosso corpus\n",
        "        # Essa será a palavra correta\n",
        "    palavra_correta = max(candidatos, key=probabilidade)\n",
        "\n",
        "    # Retornando a palavra corrigida\n",
        "    return palavra_correta"
      ],
      "execution_count": 0,
      "outputs": []
    },
    {
      "cell_type": "code",
      "metadata": {
        "id": "0xgIn7t0_Wz3",
        "colab_type": "code",
        "colab": {
          "base_uri": "https://localhost:8080/",
          "height": 34
        },
        "outputId": "ebe0c4db-dea3-4c3d-bca4-3ea5a599f72c"
      },
      "source": [
        "# Mostrando que a nova função corretor_super_sayajin() não imprime mais \n",
        "    # quantos e quias são os possíveis candidatos\n",
        "corretor_super_sayajin(palavra_exemplo)"
      ],
      "execution_count": 50,
      "outputs": [
        {
          "output_type": "execute_result",
          "data": {
            "text/plain": [
              "'programação'"
            ]
          },
          "metadata": {
            "tags": []
          },
          "execution_count": 50
        }
      ]
    },
    {
      "cell_type": "markdown",
      "metadata": {
        "id": "JlpxR7Hx_0c9",
        "colab_type": "text"
      },
      "source": [
        "**E precisamos também, dentro da função avaliador(), trocar o nome da função corretor() para corretor_super_sayajin()**"
      ]
    },
    {
      "cell_type": "code",
      "metadata": {
        "id": "Myk3KpzL_wyD",
        "colab_type": "code",
        "colab": {
          "base_uri": "https://localhost:8080/",
          "height": 51
        },
        "outputId": "428e3e12-b178-4169-e9af-0c0509e0dffe"
      },
      "source": [
        "# Função avaliador()\n",
        "# Recebe uma lista com as tuplas de palavras de teste para poder\n",
        "    # avaliar o nosso corretor\n",
        "def avaliador(testes, vocabulario):\n",
        "\n",
        "    # Calculando o número de palavras da lista de teste\n",
        "    numero_palavras = len(testes)\n",
        "\n",
        "    # Setando os contadores\n",
        "    acertou = desconhecidas = 0\n",
        "\n",
        "    # Iterando por cada tupla dentro da lista de teste\n",
        "    for correta, errada in testes:\n",
        "\n",
        "        # Chamando a função corretor() passando cada palavra\n",
        "            # digitada incorretamente\n",
        "        palavra_corrigida = corretor_super_sayajin(errada)\n",
        "\n",
        "        # Incrementando o contador das palavras desconhecidas\n",
        "        desconhecidas += (correta not in vocabulario)\n",
        "        \n",
        "        # Conferindo cada palavra para ver se ele conseguiu corrigir\n",
        "        if palavra_corrigida == correta:\n",
        "\n",
        "            # Incrementando o contador das palavras corretas\n",
        "            acertou += 1\n",
        "    \n",
        "    # Calculando a taxa de acerto do nosso corretor\n",
        "    taxa_acerto = round(acertou * 100 / numero_palavras, 2)\n",
        "\n",
        "    # Calculando a taxa de erro referente às palavras desconhecidas\n",
        "    taxa_desconhecidas = round(desconhecidas * 100 / numero_palavras, 2)\n",
        "\n",
        "    # Mostrando a taxa de acerto doe nosso corretor\n",
        "    print(f'{taxa_acerto}% de {numero_palavras} das palavras conhecidas\\n'\n",
        "          f'e {taxa_desconhecidas}% das palavras desconhecidas')\n",
        "\n",
        "# Calculando as palavras conecidas\n",
        "vocabulario = set(lista_normalizada)\n",
        "\n",
        "# Chamando a função avaliador()\n",
        "avaliador(lista_teste, vocabulario)"
      ],
      "execution_count": 51,
      "outputs": [
        {
          "output_type": "stream",
          "text": [
            "55.91% de 186 das palavras conhecidas\n",
            "e 6.99% das palavras desconhecidas\n"
          ],
          "name": "stdout"
        }
      ]
    },
    {
      "cell_type": "markdown",
      "metadata": {
        "id": "0846-UA7rQ6R",
        "colab_type": "text"
      },
      "source": [
        "**Oh não! Caiu demais a taxa de acerto!**\n",
        "<br>\n",
        "<br>\n",
        "**Vamos ver o que aconteceu imprimindo, para cada palavra testada:**\n",
        "<br>\n",
        "<br>\n",
        "**a palavra errada - a corrigida pela antiga função corretor() - a corrigida pela nova função corretor_super_sayajin()**"
      ]
    },
    {
      "cell_type": "code",
      "metadata": {
        "id": "XRvyjfLnBfUG",
        "colab_type": "code",
        "colab": {
          "base_uri": "https://localhost:8080/",
          "height": 1000
        },
        "outputId": "021406ab-82d5-4290-d4d7-5356c5d3ffdb"
      },
      "source": [
        "# Função avaliador()\n",
        "# Recebe uma lista com as tuplas de palavras de teste para poder\n",
        "    # avaliar o nosso corretor\n",
        "def avaliador(testes, vocabulario):\n",
        "\n",
        "    # Calculando o número de palavras da lista de teste\n",
        "    numero_palavras = len(testes)\n",
        "\n",
        "    # Setando os contadores\n",
        "    acertou = desconhecidas = 0\n",
        "\n",
        "    # Iterando por cada tupla dentro da lista de teste\n",
        "    for correta, errada in testes:\n",
        "\n",
        "        # Chamando a função corretor() passando cada palavra\n",
        "            # digitada incorretamente\n",
        "        palavra_corrigida = corretor_super_sayajin(errada)\n",
        "\n",
        "        # Incrementando o contador das palavras desconhecidas\n",
        "        desconhecidas += (correta not in vocabulario)\n",
        "        \n",
        "        # Conferindo cada palavra para ver se ele conseguiu corrigir\n",
        "        if palavra_corrigida == correta:\n",
        "\n",
        "            # Incrementando o contador das palavras corretas\n",
        "            acertou += 1\n",
        "\n",
        "        #\n",
        "        else:\n",
        "            print(f\"{errada} - {corretor(errada)} - {palavra_corrigida}\")\n",
        "    \n",
        "    # Calculando a taxa de acerto do nosso corretor\n",
        "    taxa_acerto = round(acertou * 100 / numero_palavras, 2)\n",
        "\n",
        "    # Calculando a taxa de erro referente às palavras desconhecidas\n",
        "    taxa_desconhecidas = round(desconhecidas * 100 / numero_palavras, 2)\n",
        "\n",
        "    # Mostrando a taxa de acerto doe nosso corretor\n",
        "    print(f'\\n\\n{taxa_acerto}% de {numero_palavras} das palavras conhecidas\\n'\n",
        "          f'e {taxa_desconhecidas}% das palavras desconhecidas')\n",
        "\n",
        "# Calculando as palavras conecidas\n",
        "vocabulario = set(lista_normalizada)\n",
        "\n",
        "# Chamando a função avaliador()\n",
        "avaliador(lista_teste, vocabulario)"
      ],
      "execution_count": 55,
      "outputs": [
        {
          "output_type": "stream",
          "text": [
            "esje - esse - se\n",
            "sãêo - são - não\n",
            "dosa - dos - do\n",
            "eme - em - de\n",
            "eàssa - essa - esse\n",
            "daõs - das - da\n",
            "céda - cada - da\n",
            "noâ - no - o\n",
            "enêão - então - não\n",
            "tĩem - tem - em\n",
            "nossah - nossa - nosso\n",
            "teb - tem - de\n",
            "atĩ - até - a\n",
            "âem - em - de\n",
            "foo - foi - o\n",
            "serr - ser - se\n",
            "entke - entre - então\n",
            "van - vai - a\n",
            "çeus - seus - seu\n",
            "eû - e - de\n",
            "temeo - tempo - temos\n",
            "semre - sempre - ser\n",
            "elaá - ela - ele\n",
            "síó - só - se\n",
            "siàe - site - se\n",
            "seém - sem - em\n",
            "peln - pelo - ele\n",
            "aléra - alura - agora\n",
            "tdia - dia - da\n",
            "jé - é - de\n",
            "sãô - são - não\n",
            "odos - dos - do\n",
            "siua - sua - seu\n",
            "elpe - ele - esse\n",
            "teos - temos - os\n",
            "eũsa - essa - esse\n",
            "vjmos - vamos - temos\n",
            "dms - dos - de\n",
            "cava - java - para\n",
            "ános - nos - no\n",
            "èaso - caso - as\n",
            "túem - tem - em\n",
            "daáos - dados - dos\n",
            "nossk - nosso - nosso\n",
            "tãer - ter - ser\n",
            "vté - até - é\n",
            "búm - bem - um\n",
            "sçerá - será - ser\n",
            "entró - entre - então\n",
            "uai - vai - a\n",
            "sâus - seus - seu\n",
            "ìeu - seu - de\n",
            "fual - qual - sua\n",
            "elal - ela - ele\n",
            "skó - só - se\n",
            "secm - sem - em\n",
            "aluéa - alura - além\n",
            "dil - dia - de\n",
            "sód - só - se\n",
            "eúaa - aeúaa - essa\n",
            "ró - só - de\n",
            "dĩaz - adĩaz - da\n",
            "correptor - corretor - correto\n",
            "trtica - tática - prática\n",
            "ewpoderamento - aewpoderamento - ewpoderamento\n",
            "îgato - gato - fato\n",
            "cakvalo - acakvalo - carvalho\n",
            "canelac - acanelac - janela\n",
            "tênisy - atênisy - tênisy\n",
            "anciosa - aanciosa - ansioso\n",
            "ancciosa - aancciosa - ancciosa\n",
            "ansioa - aansioa - antiga\n",
            "asterístico - aasterístico - asterístico\n",
            "entertido - aentertido - entendido\n",
            "ritimo - ritmo - ótimo\n",
            "indiota - aindiota - indica\n",
            "tomare - tomar - tomar\n",
            "seje - seja - se\n",
            "provalecer - aprovalecer - prevaleceu\n",
            "esteje - esteja - este\n",
            "mindigo - amindigo - indico\n",
            "pertubar - apertubar - derrubar\n",
            "\n",
            "\n",
            "55.91% de 186 das palavras conhecidas\n",
            "e 6.99% das palavras desconhecidas\n"
          ],
          "name": "stdout"
        }
      ]
    },
    {
      "cell_type": "code",
      "metadata": {
        "id": "qFXCAim8pCUr",
        "colab_type": "code",
        "colab": {}
      },
      "source": [
        ""
      ],
      "execution_count": 0,
      "outputs": []
    }
  ]
}