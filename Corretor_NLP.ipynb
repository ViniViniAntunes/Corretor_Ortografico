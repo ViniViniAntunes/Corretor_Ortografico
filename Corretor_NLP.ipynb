{
  "nbformat": 4,
  "nbformat_minor": 0,
  "metadata": {
    "colab": {
      "name": "Corretor_NLP.ipynb",
      "provenance": [],
      "collapsed_sections": []
    },
    "kernelspec": {
      "name": "python3",
      "display_name": "Python 3"
    }
  },
  "cells": [
    {
      "cell_type": "markdown",
      "metadata": {
        "id": "t7auu0R-vykW",
        "colab_type": "text"
      },
      "source": [
        "# Corretor ortográfico"
      ]
    },
    {
      "cell_type": "markdown",
      "metadata": {
        "id": "nGraQ4ya00lH",
        "colab_type": "text"
      },
      "source": [
        "## 1) Conhecendo o conteúdo do arquivo.\n",
        "**O arquivo contém o texto de vários artigos publicados na plataforma da Alura. Esse conteúdo será o nosso \"corpus\".**\n",
        "**\"Corpus\", na linguística, é o conjunto de textos escritos e registros orais em uma determinada língua e que serve como base de análise.**"
      ]
    },
    {
      "cell_type": "markdown",
      "metadata": {
        "id": "C4urM7Mz566V",
        "colab_type": "text"
      },
      "source": [
        "**Primeiro abrimos o arquivo .txt e armazenamos o seu conteúdo em uma variável**"
      ]
    },
    {
      "cell_type": "code",
      "metadata": {
        "id": "tUCsORI01Xei",
        "colab_type": "code",
        "outputId": "0975504a-6175-455f-d2ab-a9d9a83101e4",
        "colab": {
          "base_uri": "https://localhost:8080/",
          "height": 275
        }
      },
      "source": [
        "# Abrindo o arquivo txt, armazenando o seu conteúdo em uma variável\n",
        "with open('artigos.txt', mode='r') as f:\n",
        "    artigos = f.read()\n",
        "\n",
        "# Mostrando uma parte do conteúdo do arquivo\n",
        "print(artigos[:500])"
      ],
      "execution_count": 1,
      "outputs": [
        {
          "output_type": "stream",
          "text": [
            "\n",
            "\n",
            "\n",
            "imagem \n",
            "\n",
            "Temos a seguinte classe que representa um usuário no nosso sistema:\n",
            "\n",
            "java\n",
            "\n",
            "Para salvar um novo usuário, várias validações são feitas, como por exemplo: Ver se o nome só contém letras, [**o CPF só números**] e ver se o usuário possui no mínimo 18 anos. Veja o método que faz essa validação:\n",
            "\n",
            "java \n",
            "\n",
            "Suponha agora que eu tenha outra classe, a classe `Produto`, que contém um atributo nome e eu quero fazer a mesma validação que fiz para o nome do usuário: Ver se só contém letras. E aí? Vou\n"
          ],
          "name": "stdout"
        }
      ]
    },
    {
      "cell_type": "markdown",
      "metadata": {
        "id": "ycBrTu-36SGT",
        "colab_type": "text"
      },
      "source": [
        "**Depois fazemos a \"tokenização\" que nada mais é que separar o texto em \"tokens\".**\n",
        "\n",
        "**Token é uma sequência de caracteres, separados por um limitador, que pode ser um espaço em branco, pontuação ou quebra de linhas, por exemplo.**"
      ]
    },
    {
      "cell_type": "code",
      "metadata": {
        "id": "NdX_3ftr3iA4",
        "colab_type": "code",
        "outputId": "927a8469-8bf5-42a8-af73-c3e2b5ebdc85",
        "colab": {
          "base_uri": "https://localhost:8080/",
          "height": 34
        }
      },
      "source": [
        "# Mostrando quantos caracteres têm no arquivo\n",
        "len(artigos)"
      ],
      "execution_count": 2,
      "outputs": [
        {
          "output_type": "execute_result",
          "data": {
            "text/plain": [
              "2605046"
            ]
          },
          "metadata": {
            "tags": []
          },
          "execution_count": 2
        }
      ]
    },
    {
      "cell_type": "markdown",
      "metadata": {
        "id": "Nv7I-QYg2GVX",
        "colab_type": "text"
      },
      "source": [
        "# 2) Fatiando o conteúdo do arquivo\n",
        "**Precisamos saber quantas palavras existem e não quantos caracteres**"
      ]
    },
    {
      "cell_type": "markdown",
      "metadata": {
        "id": "24AnczLN_I0c",
        "colab_type": "text"
      },
      "source": [
        "**Usando o método split()**"
      ]
    },
    {
      "cell_type": "code",
      "metadata": {
        "id": "nqvf9AXo4i-x",
        "colab_type": "code",
        "outputId": "dba19bf1-18b2-4939-a58b-1b5e651359ed",
        "colab": {
          "base_uri": "https://localhost:8080/",
          "height": 34
        }
      },
      "source": [
        "# Um texto de exemplo\n",
        "texto_exemplo = 'Olá, tudo bem?'\n",
        "\n",
        "# \"Tokenizando\" o texto de exemplo utilizando o método split()\n",
        "tokens = texto_exemplo.split()\n",
        "\n",
        "# Mostrando o resultado da \"tokenização\" do texto de exemplo utilizando o método split()\n",
        "print(tokens)"
      ],
      "execution_count": 3,
      "outputs": [
        {
          "output_type": "stream",
          "text": [
            "['Olá,', 'tudo', 'bem?']\n"
          ],
          "name": "stdout"
        }
      ]
    },
    {
      "cell_type": "code",
      "metadata": {
        "id": "YMgFLob25C4o",
        "colab_type": "code",
        "outputId": "c6c1d763-2009-4446-8163-e544b964531b",
        "colab": {
          "base_uri": "https://localhost:8080/",
          "height": 34
        }
      },
      "source": [
        "# Mostrando o tamanho da lista de tokens criadas no exemplo\n",
        "len(tokens)"
      ],
      "execution_count": 4,
      "outputs": [
        {
          "output_type": "execute_result",
          "data": {
            "text/plain": [
              "3"
            ]
          },
          "metadata": {
            "tags": []
          },
          "execution_count": 4
        }
      ]
    },
    {
      "cell_type": "markdown",
      "metadata": {
        "id": "AO02nPiD_Pcr",
        "colab_type": "text"
      },
      "source": [
        "**Usando a biblioteca nltk**"
      ]
    },
    {
      "cell_type": "code",
      "metadata": {
        "id": "CVMIHvqw5RPZ",
        "colab_type": "code",
        "outputId": "1966e829-b8f7-45d1-a04f-cb34b1975fdd",
        "colab": {
          "base_uri": "https://localhost:8080/",
          "height": 68
        }
      },
      "source": [
        "# Importando a biblioteca nltk\n",
        "import nltk\n",
        "\n",
        "# Baixando o pacote punkt\n",
        "nltk.download('punkt')"
      ],
      "execution_count": 5,
      "outputs": [
        {
          "output_type": "stream",
          "text": [
            "[nltk_data] Downloading package punkt to /root/nltk_data...\n",
            "[nltk_data]   Unzipping tokenizers/punkt.zip.\n"
          ],
          "name": "stdout"
        },
        {
          "output_type": "execute_result",
          "data": {
            "text/plain": [
              "True"
            ]
          },
          "metadata": {
            "tags": []
          },
          "execution_count": 5
        }
      ]
    },
    {
      "cell_type": "code",
      "metadata": {
        "id": "UbH45kKq75pW",
        "colab_type": "code",
        "outputId": "cb92b056-7758-42a4-b90b-d884f9acc6c2",
        "colab": {
          "base_uri": "https://localhost:8080/",
          "height": 34
        }
      },
      "source": [
        "# \"Tokenizando\" o texto de exemplo utilizando a biblioteca nltk\n",
        "palavras_separadas = nltk.tokenize.word_tokenize(texto_exemplo)\n",
        "\n",
        "# Mostrando o resultado da \"tokenização\" do texto de exemplo utilizando a biblioteca nltk\n",
        "print(palavras_separadas)"
      ],
      "execution_count": 6,
      "outputs": [
        {
          "output_type": "stream",
          "text": [
            "['Olá', ',', 'tudo', 'bem', '?']\n"
          ],
          "name": "stdout"
        }
      ]
    },
    {
      "cell_type": "code",
      "metadata": {
        "id": "NrsxPpFy8iDq",
        "colab_type": "code",
        "outputId": "acbe8b14-5735-4b13-d6ec-cca986084e29",
        "colab": {
          "base_uri": "https://localhost:8080/",
          "height": 34
        }
      },
      "source": [
        "# Mostrando o tamanho da lista de tokens criadas no exemplo\n",
        "len(palavras_separadas)"
      ],
      "execution_count": 7,
      "outputs": [
        {
          "output_type": "execute_result",
          "data": {
            "text/plain": [
              "5"
            ]
          },
          "metadata": {
            "tags": []
          },
          "execution_count": 7
        }
      ]
    },
    {
      "cell_type": "markdown",
      "metadata": {
        "id": "XSR43IPizO7f",
        "colab_type": "text"
      },
      "source": [
        "**Podemos notar que, utilizando a bilbioteca nltk, foi possível separar os caracteres especiais das palavras encontradas, mas eles ainda estão todos juntos em uma única lista.**"
      ]
    },
    {
      "cell_type": "markdown",
      "metadata": {
        "id": "GPSusvtM2V7a",
        "colab_type": "text"
      },
      "source": [
        "## 2.1) Separando o necessário"
      ]
    },
    {
      "cell_type": "markdown",
      "metadata": {
        "id": "xzvlxLFLA3bl",
        "colab_type": "text"
      },
      "source": [
        "**Separando somente as palavras somente**"
      ]
    },
    {
      "cell_type": "code",
      "metadata": {
        "id": "ZafaFnhh_5fZ",
        "colab_type": "code",
        "outputId": "474544ed-d442-4f2e-f1c5-0bfa40c9bbd7",
        "colab": {
          "base_uri": "https://localhost:8080/",
          "height": 34
        }
      },
      "source": [
        "# Relembrando como funciona o método isalpha()\n",
        "'/.'.isalpha()"
      ],
      "execution_count": 8,
      "outputs": [
        {
          "output_type": "execute_result",
          "data": {
            "text/plain": [
              "False"
            ]
          },
          "metadata": {
            "tags": []
          },
          "execution_count": 8
        }
      ]
    },
    {
      "cell_type": "code",
      "metadata": {
        "id": "aA_ILWYjAgRT",
        "colab_type": "code",
        "outputId": "f1821ee0-b39f-43d1-d972-89c2f8784637",
        "colab": {
          "base_uri": "https://localhost:8080/",
          "height": 34
        }
      },
      "source": [
        "# Relembrando como funciona o método isalpha()\n",
        "'à'.isalpha()"
      ],
      "execution_count": 9,
      "outputs": [
        {
          "output_type": "execute_result",
          "data": {
            "text/plain": [
              "True"
            ]
          },
          "metadata": {
            "tags": []
          },
          "execution_count": 9
        }
      ]
    },
    {
      "cell_type": "code",
      "metadata": {
        "id": "2vZDh-3T_gKk",
        "colab_type": "code",
        "outputId": "9d7d1e90-11de-4f75-80a1-bc721bfe63e8",
        "colab": {
          "base_uri": "https://localhost:8080/",
          "height": 34
        }
      },
      "source": [
        "# Função separa_palavras()\n",
        "def separa_palavras(lista_tokens):\n",
        "\n",
        "    # Criando uma lista vazia para armazenar as palavras separadas dos caracteres especiais\n",
        "    lista_palavras = []\n",
        "\n",
        "    # Iterando por toda a lista de tokens\n",
        "    for token in lista_tokens:\n",
        "\n",
        "        # Separando as palavras dos caracteres especiais\n",
        "        if token.isalpha():\n",
        "\n",
        "            # Armazenando somente as palavras\n",
        "            lista_palavras.append(token)\n",
        "    \n",
        "    # Retornando uma lista somente com as palavras\n",
        "    return lista_palavras\n",
        "\n",
        "# Chamando a função separa_palavras para testar\n",
        "separa_palavras(palavras_separadas)"
      ],
      "execution_count": 10,
      "outputs": [
        {
          "output_type": "execute_result",
          "data": {
            "text/plain": [
              "['Olá', 'tudo', 'bem']"
            ]
          },
          "metadata": {
            "tags": []
          },
          "execution_count": 10
        }
      ]
    },
    {
      "cell_type": "markdown",
      "metadata": {
        "id": "NtQvaZrDA9d8",
        "colab_type": "text"
      },
      "source": [
        "**Teste feito, vamos fazer o mesmo com nosso corpus**"
      ]
    },
    {
      "cell_type": "code",
      "metadata": {
        "id": "fWkScSOeAo79",
        "colab_type": "code",
        "outputId": "3794cc44-3d55-4075-d8ca-44fc08917221",
        "colab": {
          "base_uri": "https://localhost:8080/",
          "height": 34
        }
      },
      "source": [
        "# \"Tokenizando\" o nosso corpus utilizando a biblioteca nltk\n",
        "lista_tokens = nltk.tokenize.word_tokenize(artigos)\n",
        "\n",
        "# Chamando a função separa_palavras() passando o nosso corpus como parâmetro\n",
        "lista_palavras = separa_palavras(lista_tokens)\n",
        "\n",
        "# Mostrando o total de palavras em nosso corpus\n",
        "print(f'O número total de palavras em nosso corpus é {len(lista_palavras)}')"
      ],
      "execution_count": 11,
      "outputs": [
        {
          "output_type": "stream",
          "text": [
            "O número total de palavras em nosso corpus é 393914\n"
          ],
          "name": "stdout"
        }
      ]
    },
    {
      "cell_type": "markdown",
      "metadata": {
        "id": "IzWQzXPw5UaP",
        "colab_type": "text"
      },
      "source": [
        "**Então em nosso corpus existe tudo isso de palavras???**\n",
        "<br>\n",
        "<br>\n",
        "**A resposta virá na seção 4**"
      ]
    },
    {
      "cell_type": "code",
      "metadata": {
        "id": "s-zDMx2LW1bL",
        "colab_type": "code",
        "outputId": "39d70bb1-76f6-4727-f83e-8c80b39f505f",
        "colab": {
          "base_uri": "https://localhost:8080/",
          "height": 34
        }
      },
      "source": [
        "# Uma pequena amostra do resultado até aqui\n",
        "print(lista_palavras[:5])"
      ],
      "execution_count": 12,
      "outputs": [
        {
          "output_type": "stream",
          "text": [
            "['imagem', 'Temos', 'a', 'seguinte', 'classe']\n"
          ],
          "name": "stdout"
        }
      ]
    },
    {
      "cell_type": "markdown",
      "metadata": {
        "id": "j5KnRUUY3YuH",
        "colab_type": "text"
      },
      "source": [
        "# 3) Normalização\n",
        "**Normalizar as palavras é simplesmente deixaá-las noum mesmo padrão, por exemplo, passar todas as letras para minúsculas**\n",
        "<br>\n",
        "<br>\n",
        "**Essa etapa é importante para ajudar o nosso corretor a trabalhar por si só.**\n"
      ]
    },
    {
      "cell_type": "code",
      "metadata": {
        "id": "KtO0fys2WLbS",
        "colab_type": "code",
        "outputId": "38767fbb-436c-4d82-cf4c-f5cbb652867d",
        "colab": {
          "base_uri": "https://localhost:8080/",
          "height": 34
        }
      },
      "source": [
        "# Função normalizacao() \n",
        "def normalizacao(lista_palavras):\n",
        "    \n",
        "    # Criando uma lista vazia para armazenar as palavras normalizadas\n",
        "    lista_normalizada = []\n",
        "\n",
        "    # Iterando por toda a lista de palavras\n",
        "    for palavra in lista_palavras:\n",
        "\n",
        "        # Armazenando as palavras normalizadas\n",
        "        lista_normalizada.append(palavra.lower())\n",
        "    \n",
        "    # Retornando uma lista com as palavras normalizadas\n",
        "    return lista_normalizada\n",
        "\n",
        "# Chamando a função normalizacao()\n",
        "lista_normalizada = normalizacao(lista_palavras)\n",
        "\n",
        "# Uma pequena amostra do resultado até aqui\n",
        "print(lista_normalizada[:5])"
      ],
      "execution_count": 13,
      "outputs": [
        {
          "output_type": "stream",
          "text": [
            "['imagem', 'temos', 'a', 'seguinte', 'classe']\n"
          ],
          "name": "stdout"
        }
      ]
    },
    {
      "cell_type": "markdown",
      "metadata": {
        "id": "7zsjbHQ_45iK",
        "colab_type": "text"
      },
      "source": [
        "**Note que agora temos somente letras minúsculas**"
      ]
    },
    {
      "cell_type": "markdown",
      "metadata": {
        "id": "DzhSUN_P5CSR",
        "colab_type": "text"
      },
      "source": [
        "# 4) Mas quantas palavras de fato existem em nosso corpus?\n",
        "****"
      ]
    },
    {
      "cell_type": "markdown",
      "metadata": {
        "id": "GVoeMWmprE3i",
        "colab_type": "text"
      },
      "source": [
        "**Para responder isso, basta usarmos o método set() do Python**"
      ]
    },
    {
      "cell_type": "code",
      "metadata": {
        "id": "vRATSLQ4WLaH",
        "colab_type": "code",
        "outputId": "eebaa082-f93e-42ce-8d23-bb0f75b31789",
        "colab": {
          "base_uri": "https://localhost:8080/",
          "height": 34
        }
      },
      "source": [
        "# Relembrando como funciona o método set() do Python\n",
        "set([1, 2, 3, 3, 3, 4, 5, 6, 6])"
      ],
      "execution_count": 14,
      "outputs": [
        {
          "output_type": "execute_result",
          "data": {
            "text/plain": [
              "{1, 2, 3, 4, 5, 6}"
            ]
          },
          "metadata": {
            "tags": []
          },
          "execution_count": 14
        }
      ]
    },
    {
      "cell_type": "code",
      "metadata": {
        "id": "z9VSxwDOWLZN",
        "colab_type": "code",
        "outputId": "67697d23-688f-40c2-a958-3df6c7da89b7",
        "colab": {
          "base_uri": "https://localhost:8080/",
          "height": 34
        }
      },
      "source": [
        "# Mostrando o total real de palavras existentes em nosso corpus\n",
        "print(f'O número total de palavras que nosso corretor \"sabe\" de fato é {len(set(lista_normalizada))}')"
      ],
      "execution_count": 15,
      "outputs": [
        {
          "output_type": "stream",
          "text": [
            "O número total de palavras que nosso corretor \"sabe\" de fato é 17652\n"
          ],
          "name": "stdout"
        }
      ]
    },
    {
      "cell_type": "markdown",
      "metadata": {
        "id": "4Jubja6D6PQh",
        "colab_type": "text"
      },
      "source": [
        "**Segundo esse <a href=\"https://forum.duolingo.com/comment/7642297/Quantas-palavras-voc%C3%AA-precisa-saber-para-ser-fluente\" target=\"_blank\">post</a> no site <a href=\"https://pt.duolingo.com/\" target=\"_blank\">Duolingo</a>, 8000 palavras é mais do que qualquer pessoas precisa saber para ser fluente em uma língua. Nosso corretor está bem acima disso.**"
      ]
    },
    {
      "cell_type": "markdown",
      "metadata": {
        "id": "88kqXofdb34-",
        "colab_type": "text"
      },
      "source": [
        "# 5) Preparando o nosso corretor\n",
        "**Precisamos \"ensinar\" o nosso corretor a identificar erros para então poder corrigí-los. Faremso isso criando funções e cada tipo de erro um conjunto de funções será criado.**"
      ]
    },
    {
      "cell_type": "markdown",
      "metadata": {
        "id": "OddJ193o-VTW",
        "colab_type": "text"
      },
      "source": [
        "## 5.1) Erro: falta de uma letra"
      ]
    },
    {
      "cell_type": "markdown",
      "metadata": {
        "id": "h22mSzDT8VGK",
        "colab_type": "text"
      },
      "source": [
        "**Exemplo: supomos que queira digitar a palavra \"programação\", mas na hora o dedo escapa e digita-se \"programaão\".  Precisamos fatiar em duas partes a palavra no lugar exato e inserir a letra faltante entre as duas partes**"
      ]
    },
    {
      "cell_type": "code",
      "metadata": {
        "id": "mLmUnYsohghd",
        "colab_type": "code",
        "outputId": "702faee5-94b0-4bb6-b452-857d7b318e0e",
        "colab": {
          "base_uri": "https://localhost:8080/",
          "height": 34
        }
      },
      "source": [
        "# Criando um exemplo\n",
        "palavra_exemplo = 'programaão'\n",
        "\n",
        "# Relembrando como fatiar uma string em Python\n",
        "(palavra_exemplo[:8], palavra_exemplo[8:])"
      ],
      "execution_count": 16,
      "outputs": [
        {
          "output_type": "execute_result",
          "data": {
            "text/plain": [
              "('programa', 'ão')"
            ]
          },
          "metadata": {
            "tags": []
          },
          "execution_count": 16
        }
      ]
    },
    {
      "cell_type": "code",
      "metadata": {
        "id": "JWGoENDO-05j",
        "colab_type": "code",
        "outputId": "d791fdf7-9b44-4d8f-bf07-972cfb4498b0",
        "colab": {
          "base_uri": "https://localhost:8080/",
          "height": 102
        }
      },
      "source": [
        "# Exemplo do que queremos fazer\n",
        "print(f'{palavra_exemplo[:8]} + \"a letra faltante (ç)\" + {palavra_exemplo[8:]}'\n",
        "      f'\\n\\nResulta na palavra \\n\\n\\t{palavra_exemplo[:8] + \"ç\" + palavra_exemplo[8:]}')"
      ],
      "execution_count": 17,
      "outputs": [
        {
          "output_type": "stream",
          "text": [
            "programa + \"a letra faltante (ç)\" + ão\n",
            "\n",
            "Resulta na palavra \n",
            "\n",
            "\tprogramação\n"
          ],
          "name": "stdout"
        }
      ]
    },
    {
      "cell_type": "markdown",
      "metadata": {
        "id": "lzewgWE7uTqi",
        "colab_type": "text"
      },
      "source": [
        "**Vamos fazer isso para todas as palavras que estiverem faltando uma letra. Precisamos de uma função para fazer isso.**"
      ]
    },
    {
      "cell_type": "code",
      "metadata": {
        "id": "tLy-84f7WLJP",
        "colab_type": "code",
        "outputId": "df4e869f-4ae4-47b2-8deb-acab0763c058",
        "colab": {
          "base_uri": "https://localhost:8080/",
          "height": 34
        }
      },
      "source": [
        "# Função insere_letras()\n",
        "# Recebe uma lista de tuplas (esquerdo, direito) que corresponde aos lados \n",
        "    # esquerdo e direito da palavra fatiada em dois\n",
        "def insere_letras(fatias):\n",
        "\n",
        "    # Criando uma lista vazia para armazenar as palavras corrigidas\n",
        "    novas_palavras = []\n",
        "\n",
        "    # Variável que armazena todas as letras do alfabeto e as vogais acentuadas\n",
        "        # É daqui que nosso corretor pegará a letra faltante\n",
        "    letras = 'abcedfghijklmnopqrstuvwxyzáâàãéêèíîìóôòõúûùç'\n",
        "\n",
        "    # Iterando por todas as tuplas da lista recebida\n",
        "    for esquerdo, direito in fatias:\n",
        "\n",
        "        # Iterando por toda letra das variável letras\n",
        "        for letra in letras:\n",
        "\n",
        "            # Acrescentando todas as possibilidades de palavras possíveis\n",
        "            novas_palavras.append(esquerdo + letra + direito)\n",
        "    \n",
        "    # Retornando uma lista de possíveis palavras\n",
        "    return novas_palavras\n",
        "\n",
        "# Mostrando uma parte da lista que a função insere_letras() retorna como exemplo\n",
        "insere_letras([('programa', 'ão')])[:5]"
      ],
      "execution_count": 18,
      "outputs": [
        {
          "output_type": "execute_result",
          "data": {
            "text/plain": [
              "['programaaão', 'programabão', 'programacão', 'programaeão', 'programadão']"
            ]
          },
          "metadata": {
            "tags": []
          },
          "execution_count": 18
        }
      ]
    },
    {
      "cell_type": "code",
      "metadata": {
        "id": "VZ4XADVmyC_s",
        "colab_type": "code",
        "outputId": "cb1988a2-abf8-4eb1-9d4e-4b32f2a0d47d",
        "colab": {
          "base_uri": "https://localhost:8080/",
          "height": 34
        }
      },
      "source": [
        "# Função gerador_palavras()\n",
        "def gerador_palavras(palavra):\n",
        "\n",
        "    # Criando uma lista vazia para armazenar as duas fatias de cada palavra\n",
        "    fatias = []\n",
        "\n",
        "    # Iterando por cada letra de cada palavra\n",
        "    for i in range(len(palavra) + 1):\n",
        "\n",
        "        # Armazenando as duas fatias em uma tupla e essa tupla em uma lista\n",
        "        fatias.append((palavra[:i], palavra[i:]))\n",
        "\n",
        "    # Chamando a função insere_letras() com a lista de tuplas das fatias \n",
        "        # recém-criadas e armazenando o retorno dessa função em uma variável\n",
        "    palavras_geradas = insere_letras(fatias)\n",
        "\n",
        "    # Retornando a lista de possíveis palavras. A palavra correta estará aí no meio\n",
        "    return palavras_geradas\n",
        "\n",
        "# Chamando a função gerador_palavras() com a pallavra_exemplo como parãmetro\n",
        "    # e armazenando a lista que ela retorna em uma variável\n",
        "palavras_geradas = gerador_palavras(palavra_exemplo)\n",
        "\n",
        "# Mostrando, como exemplo, uma parte da lista que a função gerador_palavras() retorna\n",
        "print(palavras_geradas[:5])"
      ],
      "execution_count": 19,
      "outputs": [
        {
          "output_type": "stream",
          "text": [
            "['aprogramaão', 'bprogramaão', 'cprogramaão', 'eprogramaão', 'dprogramaão']\n"
          ],
          "name": "stdout"
        }
      ]
    },
    {
      "cell_type": "code",
      "metadata": {
        "id": "ilfmEmAl09bN",
        "colab_type": "code",
        "outputId": "b80ad467-8013-42fd-ce99-fe7ed6004e6d",
        "colab": {
          "base_uri": "https://localhost:8080/",
          "height": 34
        }
      },
      "source": [
        "# Laço para mostrar que a palavra correta está aí dentro desta lista\n",
        "for palavra in palavras_geradas:\n",
        "\n",
        "    # Selecionando a palavra correta\n",
        "    if palavra == 'programação':\n",
        "\n",
        "        # Mostrando que a palavra correta está dentro dessa lista\n",
        "        print(f'A palavra correta é \"{palavra}\" e ela está dentro da lista palavras_geradas')"
      ],
      "execution_count": 20,
      "outputs": [
        {
          "output_type": "stream",
          "text": [
            "A palavra correta é \"programação\" e ela está dentro da lista palavras_geradas\n"
          ],
          "name": "stdout"
        }
      ]
    },
    {
      "cell_type": "markdown",
      "metadata": {
        "id": "SKkcwWB52Hd_",
        "colab_type": "text"
      },
      "source": [
        "**Agora, nosso corretor tem que saber qual é a palavra correta dentro dessas inúmeras palavras geradas**"
      ]
    },
    {
      "cell_type": "code",
      "metadata": {
        "id": "k8ND6QTq2SvB",
        "colab_type": "code",
        "outputId": "f1a016f3-8ac7-4ad6-b592-5ccc47499819",
        "colab": {
          "base_uri": "https://localhost:8080/",
          "height": 34
        }
      },
      "source": [
        "# Mostrando a quantidade de palavras que a função gerador_palavras() \n",
        "    # retornou a partir da palavra_exemplo\n",
        "print(f'Foram geradas {len(palavras_geradas)} palavras')"
      ],
      "execution_count": 21,
      "outputs": [
        {
          "output_type": "stream",
          "text": [
            "Foram geradas 484 palavras\n"
          ],
          "name": "stdout"
        }
      ]
    },
    {
      "cell_type": "markdown",
      "metadata": {
        "id": "69JpVD8Y31kG",
        "colab_type": "text"
      },
      "source": [
        "**Faremos isso usando a função FreqDist() da biblioteca nltk. Esse método calcula a frequência que determinada palavra aparece dentro do corpus. Basta darmos qual palavra queremos saber a frequência**"
      ]
    },
    {
      "cell_type": "code",
      "metadata": {
        "id": "XTb_0pV5Uvl_",
        "colab_type": "code",
        "outputId": "eb876fce-1c16-4607-999c-7d93a2c1af1c",
        "colab": {
          "base_uri": "https://localhost:8080/",
          "height": 187
        }
      },
      "source": [
        "# Chamando a função FreqDist() com a lista_normalizada como parâmetro e \n",
        "    # armazenando o seu retorno em uma variável\n",
        "frequencia = nltk.FreqDist(lista_normalizada)\n",
        "\n",
        "# Calculando o total de palavras e armazenando esse número em uma variável\n",
        "total_palavras = len(lista_normalizada)\n",
        "\n",
        "# Mostrando as 10 palavras mais comuns da nossa lista_normalizada\n",
        "frequencia.most_common(10)"
      ],
      "execution_count": 22,
      "outputs": [
        {
          "output_type": "execute_result",
          "data": {
            "text/plain": [
              "[('de', 15494),\n",
              " ('o', 13966),\n",
              " ('que', 12225),\n",
              " ('a', 11034),\n",
              " ('e', 10478),\n",
              " ('para', 7694),\n",
              " ('um', 6346),\n",
              " ('é', 5881),\n",
              " ('uma', 5202),\n",
              " ('do', 5116)]"
            ]
          },
          "metadata": {
            "tags": []
          },
          "execution_count": 22
        }
      ]
    },
    {
      "cell_type": "markdown",
      "metadata": {
        "id": "el0P7tM05a0T",
        "colab_type": "text"
      },
      "source": [
        "**Com isso, podemos calcular a probabilidade de determinada palavra aparecer em nosso corpus**"
      ]
    },
    {
      "cell_type": "code",
      "metadata": {
        "id": "83RJUAYFWLXx",
        "colab_type": "code",
        "colab": {}
      },
      "source": [
        "# Função probabilidade()\n",
        "def probabilidade(palavra_gerada):\n",
        "\n",
        "    # Retorna a probabilidade de determinada palavra aparecer no nosso corpus\n",
        "    return frequencia[palavra_gerada] / total_palavras"
      ],
      "execution_count": 0,
      "outputs": []
    },
    {
      "cell_type": "code",
      "metadata": {
        "id": "uuIidScHBnph",
        "colab_type": "code",
        "colab": {}
      },
      "source": [
        "# Função corretor()\n",
        "# Recebe como parâmetro a palavra errada (faltando uma letra) e retorna ela corrigida\n",
        "def corretor(palavra_errada):\n",
        "\n",
        "    # Chama a função gerador_palavras() usando como parâmetro a palavra \n",
        "        # de forma incoreta (digitada com uma letra faltando)\n",
        "    palavras_geradas = gerador_palavras(palavra_errada)\n",
        "\n",
        "    # Selecionando a palavra com maior probabilidade de aparecer em nosso corpus\n",
        "    # Essa será a palavra correta\n",
        "    palavra_correta = max(palavras_geradas, key=probabilidade)\n",
        "\n",
        "    # Retornando a palavra corrigida\n",
        "    return palavra_correta"
      ],
      "execution_count": 0,
      "outputs": []
    },
    {
      "cell_type": "code",
      "metadata": {
        "id": "RliG-5qupCSq",
        "colab_type": "code",
        "outputId": "e0991be5-875b-4751-a892-9aac3bc0e224",
        "colab": {
          "base_uri": "https://localhost:8080/",
          "height": 34
        }
      },
      "source": [
        "# Recriando um exemplo, só pra não esquecer. Note que a palavra_exemplo está \n",
        "    # digitada incorretamente (faltando uma letra)\n",
        "palavra_exemplo = 'programaão'\n",
        "\n",
        "# Testando o nosso corrtor até aqui\n",
        "corretor(palavra_exemplo)"
      ],
      "execution_count": 25,
      "outputs": [
        {
          "output_type": "execute_result",
          "data": {
            "text/plain": [
              "'programação'"
            ]
          },
          "metadata": {
            "tags": []
          },
          "execution_count": 25
        }
      ]
    },
    {
      "cell_type": "code",
      "metadata": {
        "id": "PuzWd4POpeUo",
        "colab_type": "code",
        "outputId": "8c4a2943-1e07-4dd1-8b80-a5a1d8ae31e1",
        "colab": {
          "base_uri": "https://localhost:8080/",
          "height": 34
        }
      },
      "source": [
        "# Mais testes. Agora com a palavra \"lógica\"\n",
        "teste = 'lgica'\n",
        "print(f'Você quis dizer: {corretor(teste)}')"
      ],
      "execution_count": 26,
      "outputs": [
        {
          "output_type": "stream",
          "text": [
            "Você quis dizer: lógica\n"
          ],
          "name": "stdout"
        }
      ]
    },
    {
      "cell_type": "markdown",
      "metadata": {
        "id": "_wLlMrwP7XCn",
        "colab_type": "text"
      },
      "source": [
        "**Com isso nosso corretor está preparado para corrigir palavras digitadas com uma letra falatando.**\n",
        "<br>\n",
        "<br>\n",
        "**Precisamos agora avaliar a qualidade de nosso corretor.**"
      ]
    },
    {
      "cell_type": "markdown",
      "metadata": {
        "id": "sEo0nmd272aZ",
        "colab_type": "text"
      },
      "source": [
        "### Avaliando o nosso corretor"
      ]
    },
    {
      "cell_type": "code",
      "metadata": {
        "id": "Plt7u8Ihps-R",
        "colab_type": "code",
        "colab": {}
      },
      "source": [
        "# Função cria_dados_teste()\n",
        "# Recebe o nome de um arquivo com uma série de palavras digitadas correta e \n",
        "    # incorretamente para podermos avaliar o nosso corretor\n",
        "def cria_dados_teste(nome_arquivo):\n",
        "\n",
        "    # Criando um lista vazia para armazenar as palavras de teste\n",
        "    lista_palavras_teste = []\n",
        "\n",
        "    # Abre o arquivo em mode de leitura\n",
        "    f = open(nome_arquivo, 'r')\n",
        "\n",
        "    # Iterando em toda linha do conteúdo do arquivo de teste\n",
        "    for linha in f:\n",
        "\n",
        "        # Separando as palavras digitadas correta e incorretamente avaliarmos\n",
        "        correta, errada = linha.split()\n",
        "\n",
        "        # Armazenando em uma lista as tuplas formadas pelas palavras \n",
        "            # digitadas correta e incorretamente\n",
        "        lista_palavras_teste.append((correta, errada))\n",
        "    \n",
        "    # Fechando o arquivo\n",
        "    f.close()\n",
        "\n",
        "    # Retornando a lista com as tuplas de palavras\n",
        "        # digitadas coreta e incorretamante\n",
        "    return lista_palavras_teste\n",
        "\n",
        "# Chamando a função cria_dados_teste() com o nome do arquivo que contém as\n",
        "    # palavras de teste\n",
        "lista_teste = cria_dados_teste('palavras.txt')"
      ],
      "execution_count": 0,
      "outputs": []
    },
    {
      "cell_type": "code",
      "metadata": {
        "id": "8XK8_T4ZtBu9",
        "colab_type": "code",
        "outputId": "856c7e93-1afa-4632-efd3-e8e04a9dc96b",
        "colab": {
          "base_uri": "https://localhost:8080/",
          "height": 34
        }
      },
      "source": [
        "# Função avaliador()\n",
        "# Recebe uma lista com as tuplas de palavras de teste para poder\n",
        "    # avaliar o nosso corretor\n",
        "def avaliador(testes):\n",
        "\n",
        "    # Calculando o número de palavras da lista de teste\n",
        "    numero_palavras = len(testes)\n",
        "\n",
        "    # Setando um contador\n",
        "    acertou = 0\n",
        "\n",
        "    # Iterando por cada tupla dentro da lista de teste\n",
        "    for correta, errada in testes:\n",
        "\n",
        "        # Chamando a função corretor() passando cada palavra\n",
        "            # digitada incorretamente\n",
        "        palavra_corrigida = corretor(errada)\n",
        "\n",
        "        # Conferindo cada palavra para ver se ele conseguiu corrigir\n",
        "        if palavra_corrigida == correta:\n",
        "\n",
        "            # Incrementando o contador\n",
        "            acertou += 1\n",
        "    \n",
        "    # Calculando a taxa de acerto do nosso corretor\n",
        "    taxa_acerto = round(acertou * 100 / numero_palavras, 2)\n",
        "\n",
        "    # Mostrando a taxa de acerto doe nosso corretor\n",
        "    print(f'{taxa_acerto}% de {numero_palavras} palavras')\n",
        "\n",
        "# Chamando a função avaliador()\n",
        "avaliador(lista_teste)"
      ],
      "execution_count": 28,
      "outputs": [
        {
          "output_type": "stream",
          "text": [
            "1.08% de 186 palavras\n"
          ],
          "name": "stdout"
        }
      ]
    },
    {
      "cell_type": "markdown",
      "metadata": {
        "id": "F3jR8jo8-6Cf",
        "colab_type": "text"
      },
      "source": [
        "**Uma taxa vergonhosamente baixa. Depois de tanto trabalho, nosso corretor acerta 1.08% de 186 palavras teste??**\n",
        "<br>\n",
        "<br>\n",
        "**Tenha em mente que preparamos nosso corretor para corrigir apenas um tipo de erro (o erro de uma letra faltante). Precisamos incrementar mais o nosso corretor.**\n",
        "<br>\n",
        "<br>\n",
        "**Então, mãos à obra!**"
      ]
    },
    {
      "cell_type": "markdown",
      "metadata": {
        "id": "O6SEdIrx7f79",
        "colab_type": "text"
      },
      "source": [
        "## 5.2) Erro: letra a mais"
      ]
    },
    {
      "cell_type": "markdown",
      "metadata": {
        "id": "Ei_VwcI9CTvS",
        "colab_type": "text"
      },
      "source": [
        "**Exemplo: supomos que queira digitar a palavra \"programação\", mas na hora o dedo pressiona uma tecla vizinha JUNTO àquela que queríamos digitar. \"progrsamação\". (A tecla \"s\" é vizinha à tecla \"a\").**\n",
        "<br>\n",
        "<br>\n",
        "**É uma erro bastante comum, não é mesmo? Para corrigir esse erro, precisamos novamente fatiar em duas partes a palavra no lugar exato e, dessa vez, retirar a letra em excesso que se encontrará na primeira posição da fatia à direita**"
      ]
    },
    {
      "cell_type": "code",
      "metadata": {
        "id": "Q8O7vL04tBtP",
        "colab_type": "code",
        "outputId": "682843df-22f6-4f9b-d147-49701274452d",
        "colab": {
          "base_uri": "https://localhost:8080/",
          "height": 34
        }
      },
      "source": [
        "# Função deletando_caracter()\n",
        "# Recebe as fatias\n",
        "def deletando_caracter(fatias):\n",
        "\n",
        "    # Criando uma lista vazia para armazenar as palavras corrigidas\n",
        "    novas_palavras = []\n",
        "\n",
        "    # Iterando por todas as tuplas da lista recebida\n",
        "    for esquerdo, direito in fatias:\n",
        "\n",
        "        # Acrescentando todas as possibilidades de palavras possíveis\n",
        "        novas_palavras.append(esquerdo + direito[1:])\n",
        "    \n",
        "    # Retornando uma lista de possíveis palavras\n",
        "    return novas_palavras\n",
        "\n",
        "# Criando um exemplo para testarmos a nova função\n",
        "exemplo = [('progr', 'samação')]\n",
        "\n",
        "# Chamando a função deletando_caracter() passando como parâmetro um exemplo\n",
        "deletando_caracter(exemplo)"
      ],
      "execution_count": 29,
      "outputs": [
        {
          "output_type": "execute_result",
          "data": {
            "text/plain": [
              "['programação']"
            ]
          },
          "metadata": {
            "tags": []
          },
          "execution_count": 29
        }
      ]
    },
    {
      "cell_type": "markdown",
      "metadata": {
        "id": "-WZ7GncyGI7c",
        "colab_type": "text"
      },
      "source": [
        "**Vamos refatorar a função gerador_palavras() para que ele consiga corrigir também esse novo erro proposto. Assim podemos reaproveitar parte do código.**"
      ]
    },
    {
      "cell_type": "code",
      "metadata": {
        "id": "jSjYChYatBsE",
        "colab_type": "code",
        "outputId": "0ebb0c68-d5d0-47bd-ec00-80edd3efc70a",
        "colab": {
          "base_uri": "https://localhost:8080/",
          "height": 54
        }
      },
      "source": [
        "# Refatorando a função gerador_palavras()\n",
        "def gerador_palavras(palavra):\n",
        "\n",
        "    # Criando uma lista vazia para armazenar as duas fatias de cada palavra\n",
        "    fatias = []\n",
        "\n",
        "    # Iterando por cada letra de cada palavra\n",
        "    for i in range(len(palavra) + 1):\n",
        "\n",
        "        # Armazenando as duas fatias em uma tupla e essa tupla em uma lista\n",
        "        fatias.append((palavra[:i], palavra[i:]))\n",
        "\n",
        "    # Chamando a função insere_letras() com a lista de tuplas das fatias \n",
        "        # recém-criadas e armazenando o retorno dessa função em uma variável\n",
        "    palavras_geradas = insere_letras(fatias)\n",
        "\n",
        "    # Acrescentando mais uma função\n",
        "    # É aqui que a refatoração de fato ocorre\n",
        "    palavras_geradas += deletando_caracter(fatias)\n",
        "\n",
        "    # Retornando a lista de possíveis palavras. A palavra correta estará aí no meio\n",
        "    return palavras_geradas\n",
        "\n",
        "# Criando uma palavra de exemplo para testar a nova função gerador_palavras\n",
        "palavra_exemplo = 'progrsamação'\n",
        "\n",
        "# Chamando a função gerador_palavras() com a palavra_exemplo como parãmetro\n",
        "    # e armazenando a lista que ela retorna em uma variável\n",
        "palavras_geradas = gerador_palavras(palavra_exemplo)\n",
        "\n",
        "# Mostrando, como exemplo, uma parte da lista que a função gerador_palavras() retorna\n",
        "print(palavras_geradas[:5])"
      ],
      "execution_count": 30,
      "outputs": [
        {
          "output_type": "stream",
          "text": [
            "['aprogrsamação', 'bprogrsamação', 'cprogrsamação', 'eprogrsamação', 'dprogrsamação']\n"
          ],
          "name": "stdout"
        }
      ]
    },
    {
      "cell_type": "code",
      "metadata": {
        "id": "lfQNKbTGtBpq",
        "colab_type": "code",
        "outputId": "079deeb9-d77f-42e5-b644-ccd99acad5f4",
        "colab": {
          "base_uri": "https://localhost:8080/",
          "height": 34
        }
      },
      "source": [
        "# Laço para mostrar que a palavra correta está aí dentro desta lista\n",
        "for palavra in palavras_geradas:\n",
        "\n",
        "    # Selecionando a palavra correta\n",
        "    if palavra == 'programação':\n",
        "\n",
        "        # Mostrando que a palavra correta está dentro dessa lista\n",
        "        print(f'A palavra correta é \"{palavra}\" e ela está dentro da lista palavras_geradas')"
      ],
      "execution_count": 31,
      "outputs": [
        {
          "output_type": "stream",
          "text": [
            "A palavra correta é \"programação\" e ela está dentro da lista palavras_geradas\n"
          ],
          "name": "stdout"
        }
      ]
    },
    {
      "cell_type": "markdown",
      "metadata": {
        "colab_type": "text",
        "id": "innMJX2gH517"
      },
      "source": [
        "**Agora, nosso corretor tem que saber qual é a palavra correta dentro dessas inúmeras palavras geradas**"
      ]
    },
    {
      "cell_type": "code",
      "metadata": {
        "colab_type": "code",
        "outputId": "28c5df01-c377-44af-b63a-c8d7d10a3a01",
        "id": "2FUZTViiH52E",
        "colab": {
          "base_uri": "https://localhost:8080/",
          "height": 34
        }
      },
      "source": [
        "# Mostrando a quantidade de palavras que a função gerador_palavras() \n",
        "    # retornou a partir da palavra_exemplo\n",
        "print(f'Foram geradas {len(palavras_geradas)} palavras')"
      ],
      "execution_count": 32,
      "outputs": [
        {
          "output_type": "stream",
          "text": [
            "Foram geradas 585 palavras\n"
          ],
          "name": "stdout"
        }
      ]
    },
    {
      "cell_type": "markdown",
      "metadata": {
        "id": "ukGiHDqhInAd",
        "colab_type": "text"
      },
      "source": [
        "**Como apenas refatoramos a função gerador_palavras(), o nosso corretor já está preparado para corrigir os dois tipos de erros apresentados.**\n",
        "<br>\n",
        "<br>\n",
        "**Vamos agora avaliar ele novamente para vermos se ele melhora aquele resultado baixíssimo de antes.**"
      ]
    },
    {
      "cell_type": "code",
      "metadata": {
        "id": "jDrDG6-ttBoF",
        "colab_type": "code",
        "outputId": "0bb2490b-26f7-4083-fd67-602baac77555",
        "colab": {
          "base_uri": "https://localhost:8080/",
          "height": 34
        }
      },
      "source": [
        "# Chamando a função que avalia o nosso corretor\n",
        "avaliador(lista_teste)"
      ],
      "execution_count": 33,
      "outputs": [
        {
          "output_type": "stream",
          "text": [
            "41.4% de 186 palavras\n"
          ],
          "name": "stdout"
        }
      ]
    },
    {
      "cell_type": "markdown",
      "metadata": {
        "id": "ZK_l8JbOJgUk",
        "colab_type": "text"
      },
      "source": [
        "**WOW!!! Foi um belo de um upgrade no resultado, não é mesmo?**\n",
        "<br>\n",
        "<br>\n",
        "**Mas não vamos parar por aqui. Sempre dá para melhorar!!**"
      ]
    },
    {
      "cell_type": "markdown",
      "metadata": {
        "id": "vuOGNJncL6aQ",
        "colab_type": "text"
      },
      "source": [
        "## 5.3) Erro: trocando letras"
      ]
    },
    {
      "cell_type": "markdown",
      "metadata": {
        "id": "T_vs3CfJMJBt",
        "colab_type": "text"
      },
      "source": [
        "**Exemplo: supomos que queríamos digitar a palavra \"programação\", mas, sem querer, pressiona uma tecla vizinha NO LUGAR da tecla que corresponde à letra correta que queríamos de fato digitar. \"progtamação\". (A tecla \"t\" é vizinha à tecla \"r\").**\n",
        "<br>\n",
        "<br>\n",
        "**É outro tipo de erro bastante comum e precisamos lidar com ele também. Para corrigir esse erro, precisamos novamente fatiar em duas partes a palavra no lugar exato mas, dessa vez, TROCAR a letra errada pela letra correta.**"
      ]
    },
    {
      "cell_type": "code",
      "metadata": {
        "id": "w3BS2fyXtBla",
        "colab_type": "code",
        "outputId": "d6b99fef-e103-4fd7-8ca6-62c2a9c83625",
        "colab": {
          "base_uri": "https://localhost:8080/",
          "height": 34
        }
      },
      "source": [
        "# Função trocando_caracter()\n",
        "# Recebe uma lista de tuplas (esquerdo, direito) que corresponde aos lados \n",
        "    # esquerdo e direito da palavra fatiada em dois\n",
        "def troca_caracter(fatias):\n",
        "\n",
        "    # Criando uma lista vazia para armazenar as palavras corrigidas\n",
        "    novas_palavras = []\n",
        "\n",
        "    # Variável que armazena todas as letras do alfabeto e as vogais acentuadas\n",
        "        # É daqui que nosso corretor pegará a letra faltante\n",
        "    letras = 'abcedfghijklmnopqrstuvwxyzáâàãéêèíîìóôòõúûùç'\n",
        "\n",
        "    # Iterando por todas as tuplas da lista recebida\n",
        "    for esquerdo, direito in fatias:\n",
        "\n",
        "        # Iterando por toda letra das variável letras\n",
        "        for letra in letras:\n",
        "\n",
        "            # Acrescentando todas as possibilidades de palavras possíveis\n",
        "            novas_palavras.append(esquerdo + letra + direito[1:])\n",
        "    \n",
        "    # Retornando uma lista de possíveis palavras\n",
        "    return novas_palavras\n",
        "\n",
        "# Mostrando uma parte da lista que a função trocando_caracter() retorna como exemplo\n",
        "troca_caracter([('prog', 'tamação')])[:5]"
      ],
      "execution_count": 34,
      "outputs": [
        {
          "output_type": "execute_result",
          "data": {
            "text/plain": [
              "['progaamação', 'progbamação', 'progcamação', 'progeamação', 'progdamação']"
            ]
          },
          "metadata": {
            "tags": []
          },
          "execution_count": 34
        }
      ]
    },
    {
      "cell_type": "markdown",
      "metadata": {
        "colab_type": "text",
        "id": "PpR1Cq6XPg71"
      },
      "source": [
        "**Vamos refatorar mais uma vez a função gerador_palavras() para que ele consiga corrigir também esse novo erro proposto. Assim podemos reaproveitar parte do código.**"
      ]
    },
    {
      "cell_type": "code",
      "metadata": {
        "id": "y8TZiLVetBi3",
        "colab_type": "code",
        "outputId": "146ea080-ffc6-4ab2-96fe-cb9b8dacb8fb",
        "colab": {
          "base_uri": "https://localhost:8080/",
          "height": 34
        }
      },
      "source": [
        "# Refatorando mais uma vez a função gerador_palavras()\n",
        "def gerador_palavras(palavra):\n",
        "\n",
        "    # Criando uma lista vazia para armazenar as duas fatias de cada palavra\n",
        "    fatias = []\n",
        "\n",
        "    # Iterando por cada letra de cada palavra\n",
        "    for i in range(len(palavra) + 1):\n",
        "\n",
        "        # Armazenando as duas fatias em uma tupla e essa tupla em uma lista\n",
        "        fatias.append((palavra[:i], palavra[i:]))\n",
        "\n",
        "    # Chamando a função insere_letras() com a lista de tuplas das fatias \n",
        "        # recém-criadas e armazenando o retorno dessa função em uma variável\n",
        "    palavras_geradas = insere_letras(fatias)\n",
        "\n",
        "    # Primeira refatoração\n",
        "    palavras_geradas += deletando_caracter(fatias)\n",
        "\n",
        "    # Acrescentando outra função\n",
        "    # É aqui que a segunda refatoração de fato ocorre\n",
        "    palavras_geradas += troca_caracter(fatias)\n",
        "\n",
        "    # Retornando a lista de possíveis palavras. A palavra correta estará aí no meio\n",
        "    return palavras_geradas\n",
        "\n",
        "# Criando uma palavra de exemplo para testar a nova função gerador_palavras\n",
        "palavra_exemplo = 'progtamação'\n",
        "\n",
        "# Chamando a função gerador_palavras() com a palavra_exemplo como parãmetro\n",
        "    # e armazenando a lista que ela retorna em uma variável\n",
        "palavras_geradas = gerador_palavras(palavra_exemplo)\n",
        "\n",
        "# Mostrando, como exemplo, uma parte da lista que a função gerador_palavras() retorna\n",
        "print(palavras_geradas[:5])"
      ],
      "execution_count": 35,
      "outputs": [
        {
          "output_type": "stream",
          "text": [
            "['aprogtamação', 'bprogtamação', 'cprogtamação', 'eprogtamação', 'dprogtamação']\n"
          ],
          "name": "stdout"
        }
      ]
    },
    {
      "cell_type": "markdown",
      "metadata": {
        "id": "MFpiWidRdVjI",
        "colab_type": "text"
      },
      "source": [
        "**Vamos testá-lo novamente...**"
      ]
    },
    {
      "cell_type": "code",
      "metadata": {
        "id": "2ix_wXjKPO8A",
        "colab_type": "code",
        "outputId": "f6758d8f-053e-431f-c47d-f16aa298c8ec",
        "colab": {
          "base_uri": "https://localhost:8080/",
          "height": 34
        }
      },
      "source": [
        "# Laço para mostrar que a palavra correta está aí dentro desta lista\n",
        "for palavra in palavras_geradas:\n",
        "\n",
        "    # Selecionando a palavra correta\n",
        "    if palavra == 'programação':\n",
        "\n",
        "        # Mostrando que a palavra correta está dentro dessa lista\n",
        "        print(f'A palavra correta é \"{palavra}\" e ela está dentro da lista palavras_geradas')"
      ],
      "execution_count": 36,
      "outputs": [
        {
          "output_type": "stream",
          "text": [
            "A palavra correta é \"programação\" e ela está dentro da lista palavras_geradas\n"
          ],
          "name": "stdout"
        }
      ]
    },
    {
      "cell_type": "markdown",
      "metadata": {
        "colab_type": "text",
        "id": "vUSb6raiPz7K"
      },
      "source": [
        "**Legal! Agora, vamos prepará-lo para mais um erro de digitação.**"
      ]
    },
    {
      "cell_type": "markdown",
      "metadata": {
        "id": "3-47h-xbSVqw",
        "colab_type": "text"
      },
      "source": [
        "## 5.4) Erro: invertendo letras"
      ]
    },
    {
      "cell_type": "markdown",
      "metadata": {
        "id": "l-mehzUJShPw",
        "colab_type": "text"
      },
      "source": [
        "**Exemplo: supomos que queríamos digitar a palavra \"programação\". Mas, na pressa, trocamos a letra \"g\" com a letra \"r\" resultando em \"prorgamação\".**\n",
        "<br>\n",
        "<br>\n",
        "**Mais um tipo de erro muito comum que nosso corretor tem que ser capaz de lidar. Para corrigirmos esse erro, precisamos novamente fatiar em duas partes a palavra no lugar exato mas, dessa vez, TROCAR AS POSIÇÕES das letras de index 0 com a letra de index 1 da fatia direita.**\n",
        "<br>\n",
        "<br>\n",
        "**Você notou que estamos refatorando bastante o código do nosso corretor para aproveitar coisas já escritas anteriormente. Para esse erro, será bem parecido, então para facilitar, juntaremos todas as funcões que corrigem erros numa única célula do notebook.**"
      ]
    },
    {
      "cell_type": "markdown",
      "metadata": {
        "id": "bRvupY0rVtT4",
        "colab_type": "text"
      },
      "source": [
        "**Façamos isso então...**"
      ]
    },
    {
      "cell_type": "code",
      "metadata": {
        "id": "UOlAfeQkQaW9",
        "colab_type": "code",
        "colab": {}
      },
      "source": [
        "########################### Função insere_letras() ############################\n",
        "\n",
        "# Recebe uma lista de tuplas (esquerdo, direito) que corresponde aos lados \n",
        "    # esquerdo e direito da palavra fatiada em dois\n",
        "def insere_letras(fatias):\n",
        "\n",
        "    # Criando uma lista vazia para armazenar as palavras corrigidas\n",
        "    novas_palavras = []\n",
        "\n",
        "    # Variável que armazena todas as letras do alfabeto e as vogais acentuadas\n",
        "        # É daqui que nosso corretor pegará a letra faltante\n",
        "    letras = 'abcedfghijklmnopqrstuvwxyzáâàãéêèíîìóôòõúûùç'\n",
        "\n",
        "    # Iterando por todas as tuplas da lista recebida\n",
        "    for esquerdo, direito in fatias:\n",
        "\n",
        "        # Iterando por toda letra das variável letras\n",
        "        for letra in letras:\n",
        "\n",
        "            # Acrescentando todas as possibilidades de palavras possíveis\n",
        "            novas_palavras.append(esquerdo + letra + direito)\n",
        "    \n",
        "    # Retornando uma lista de possíveis palavras\n",
        "    return novas_palavras\n",
        "\n",
        "######################## Função deletando_caracter() ##########################\n",
        "\n",
        "# Função deletando_caracter()\n",
        "# Recebe as fatias\n",
        "def deletando_caracter(fatias):\n",
        "\n",
        "    # Criando uma lista vazia para armazenar as palavras corrigidas\n",
        "    novas_palavras = []\n",
        "\n",
        "    # Iterando por todas as tuplas da lista recebida\n",
        "    for esquerdo, direito in fatias:\n",
        "\n",
        "        # Acrescentando todas as possibilidades de palavras possíveis\n",
        "        novas_palavras.append(esquerdo + direito[1:])\n",
        "    \n",
        "    # Retornando uma lista de possíveis palavras\n",
        "    return novas_palavras\n",
        "\n",
        "######################## Função trocando_caracter() ###########################\n",
        "\n",
        "# Função trocando_caracter()\n",
        "# Recebe uma lista de tuplas (esquerdo, direito) que corresponde aos lados \n",
        "    # esquerdo e direito da palavra fatiada em dois\n",
        "def troca_caracter(fatias):\n",
        "\n",
        "    # Criando uma lista vazia para armazenar as palavras corrigidas\n",
        "    novas_palavras = []\n",
        "\n",
        "    # Variável que armazena todas as letras do alfabeto e as vogais acentuadas\n",
        "        # É daqui que nosso corretor pegará a letra faltante\n",
        "    letras = 'abcedfghijklmnopqrstuvwxyzáâàãéêèíîìóôòõúûùç'\n",
        "\n",
        "    # Iterando por todas as tuplas da lista recebida\n",
        "    for esquerdo, direito in fatias:\n",
        "\n",
        "        # Iterando por toda letra das variável letras\n",
        "        for letra in letras:\n",
        "\n",
        "            # Acrescentando todas as possibilidades de palavras possíveis\n",
        "            novas_palavras.append(esquerdo + letra + direito[1:])\n",
        "    \n",
        "    # Retornando uma lista de possíveis palavras\n",
        "    return novas_palavras\n",
        "\n",
        "####################### Função invertendo_caracter() ##########################\n",
        "\n",
        "# Função invertendo_caracter()\n",
        "# Recebe as fatias\n",
        "def invertendo_caracter(fatias):\n",
        "\n",
        "    # Criando uma lista vazia para armazenar as palavras corrigidas\n",
        "    novas_palavras = []\n",
        "\n",
        "    # Iterando por todas as tuplas da lista recebida\n",
        "    for esquerdo, direito in fatias:\n",
        "        \n",
        "        # Selecionando apenas as fatias da direita que têm mais de uma letra, \n",
        "            # pois, se não, não há o que inverter\n",
        "        if len(direito) > 1:\n",
        "            \n",
        "            # Acrescentando todas as possibilidades de palavras possíveis\n",
        "            novas_palavras.append(esquerdo + direito[1] + direito[0] + direito[2:])\n",
        "    \n",
        "    # Retornando uma lista de possíveis palavras\n",
        "    return novas_palavras\n",
        "\n",
        "######################### Função gerador_palavras() ###########################\n",
        "\n",
        "# Refatorando outra vez a função gerador_palavras()\n",
        "def gerador_palavras(palavra):\n",
        "\n",
        "    # Criando uma lista vazia para armazenar as duas fatias de cada palavra\n",
        "    fatias = []\n",
        "\n",
        "    # Iterando por cada letra de cada palavra\n",
        "    for i in range(len(palavra) + 1):\n",
        "\n",
        "        # Armazenando as duas fatias em uma tupla e essa tupla em uma lista\n",
        "        fatias.append((palavra[:i], palavra[i:]))\n",
        "\n",
        "    # Chamando a função insere_letras() com a lista de tuplas das fatias \n",
        "        # recém-criadas e armazenando o retorno dessa função em uma variável\n",
        "    palavras_geradas = insere_letras(fatias)\n",
        "\n",
        "    # Primeira refatoração\n",
        "    palavras_geradas += deletando_caracter(fatias)\n",
        "\n",
        "    # Segunda refatoração de fato ocorre\n",
        "    palavras_geradas += troca_caracter(fatias)\n",
        "\n",
        "    # Acrescentando outra função\n",
        "    # É aqui que a terceira refatoração de fato ocorre\n",
        "    palavras_geradas += invertendo_caracter(fatias)\n",
        "\n",
        "    # Retornando a lista de possíveis palavras. A palavra correta estará aí no meio\n",
        "    return palavras_geradas"
      ],
      "execution_count": 0,
      "outputs": []
    },
    {
      "cell_type": "markdown",
      "metadata": {
        "id": "7E1y1-_wdl_1",
        "colab_type": "text"
      },
      "source": [
        "**Avaliando o nosso coretor.**"
      ]
    },
    {
      "cell_type": "code",
      "metadata": {
        "id": "ZDJYIQFRRGmO",
        "colab_type": "code",
        "outputId": "646db7ba-1772-4837-c14e-8607b929958e",
        "colab": {
          "base_uri": "https://localhost:8080/",
          "height": 34
        }
      },
      "source": [
        "################################# AVALIANDO ###################################\n",
        "\n",
        "# Criando uma palavra de exemplo para testar a nova função gerador_palavras\n",
        "# Note o novvo erro de digitação\n",
        "palavra_exemplo = 'prorgamação'\n",
        "\n",
        "# Chamando a função gerador_palavras() com a palavra_exemplo como parãmetro\n",
        "    # e armazenando a lista que ela retorna em uma variável\n",
        "palavras_geradas = gerador_palavras(palavra_exemplo)\n",
        "\n",
        "# Mostrando, como exemplo, uma parte da lista que a função gerador_palavras() retorna\n",
        "print(palavras_geradas[:5])"
      ],
      "execution_count": 38,
      "outputs": [
        {
          "output_type": "stream",
          "text": [
            "['aprorgamação', 'bprorgamação', 'cprorgamação', 'eprorgamação', 'dprorgamação']\n"
          ],
          "name": "stdout"
        }
      ]
    },
    {
      "cell_type": "code",
      "metadata": {
        "id": "74RcVoAaRG3b",
        "colab_type": "code",
        "outputId": "e8b55d7d-c45a-4b51-ae0b-6f2295b5b3cd",
        "colab": {
          "base_uri": "https://localhost:8080/",
          "height": 34
        }
      },
      "source": [
        "# Laço para mostrar que a palavra correta está aí dentro desta lista\n",
        "for palavra in palavras_geradas:\n",
        "\n",
        "    # Selecionando a palavra correta\n",
        "    if palavra == 'programação':\n",
        "\n",
        "        # Mostrando que a palavra correta está dentro dessa lista\n",
        "        print(f'A palavra correta é \"{palavra}\" e ela está dentro da lista palavras_geradas')"
      ],
      "execution_count": 39,
      "outputs": [
        {
          "output_type": "stream",
          "text": [
            "A palavra correta é \"programação\" e ela está dentro da lista palavras_geradas\n"
          ],
          "name": "stdout"
        }
      ]
    },
    {
      "cell_type": "markdown",
      "metadata": {
        "colab_type": "text",
        "id": "ne4wRgTdY1u4"
      },
      "source": [
        "**Pronto! Nosso corretor já está preparado para corrigir os quatro tipos de erros apresentados.**\n",
        "<br>\n",
        "<br>\n",
        "**Avaliá-lo-emos novamente para ver o seu resultado.**"
      ]
    },
    {
      "cell_type": "code",
      "metadata": {
        "colab_type": "code",
        "outputId": "19882e4d-d502-43f6-f359-52ddee87c007",
        "id": "uN0bwlB2Y1u5",
        "colab": {
          "base_uri": "https://localhost:8080/",
          "height": 34
        }
      },
      "source": [
        "# Chamando a função que avalia o nosso corretor\n",
        "avaliador(lista_teste)"
      ],
      "execution_count": 40,
      "outputs": [
        {
          "output_type": "stream",
          "text": [
            "76.34% de 186 palavras\n"
          ],
          "name": "stdout"
        }
      ]
    },
    {
      "cell_type": "markdown",
      "metadata": {
        "colab_type": "text",
        "id": "Fa4BrWpeY1u9"
      },
      "source": [
        "**YEAH!!! Mais um belo salto no resultado do teste.**\n",
        "\n",
        "**Nosso corretor está indo muito bem, porém há uma dúvida.**\n",
        "<br>\n",
        "<br>\n",
        "Nosso algoritmo \"conhece\" um vocabulário, aquele que vem do nosso corpus. E os testes que estamos fazendo vêm de uma lista de palavras.\n",
        "<br>\n",
        "<br>\n",
        "Então, podem haver palavras nessa lista que nosso algoritmo não conheça, certo? Logo, esses 23.66% de erro estão associados tanto ao erro real do corretor, quanto ao \"erro\" de desconhecer determinada palavra. Como ele fará a correção daquilo que ele não conhece?**\n",
        "<br>\n",
        "<br>\n",
        "**Precisamos saber também qual é a porcentagem de palavras conhecidas da nossa lista de teste.**"
      ]
    },
    {
      "cell_type": "code",
      "metadata": {
        "id": "-ynms0ufRG_s",
        "colab_type": "code",
        "colab": {
          "base_uri": "https://localhost:8080/",
          "height": 51
        },
        "outputId": "01ca115d-bf6c-4a22-f33c-6acedda26881"
      },
      "source": [
        "# Função avaliador()\n",
        "# Recebe uma lista com as tuplas de palavras de teste para poder\n",
        "    # avaliar o nosso corretor\n",
        "def avaliador(testes, vocabulario):\n",
        "\n",
        "    # Calculando o número de palavras da lista de teste\n",
        "    numero_palavras = len(testes)\n",
        "\n",
        "    # Setando os contadores\n",
        "    acertou = desconhecidas = 0\n",
        "\n",
        "    # Iterando por cada tupla dentro da lista de teste\n",
        "    for correta, errada in testes:\n",
        "\n",
        "        # Chamando a função corretor() passando cada palavra\n",
        "            # digitada incorretamente\n",
        "        palavra_corrigida = corretor(errada)\n",
        "\n",
        "        # Conferindo cada palavra para ver se ele conseguiu corrigir\n",
        "        if palavra_corrigida == correta:\n",
        "\n",
        "            # Incrementando o contador das palavras corretas\n",
        "            acertou += 1\n",
        "        \n",
        "        else:\n",
        "            \n",
        "            # Incrementando o contador das palavras desconhecidas\n",
        "            desconhecidas += (correta not in vocabulario)\n",
        "    \n",
        "    # Calculando a taxa de acerto do nosso corretor\n",
        "    taxa_acerto = round(acertou * 100 / numero_palavras, 2)\n",
        "\n",
        "    # Calculando a taxa de erro referente às palavras desconhecidas\n",
        "    taxa_desconhecidas = round(desconhecidas * 100 / numero_palavras, 2)\n",
        "\n",
        "    # Mostrando a taxa de acerto doe nosso corretor\n",
        "    print(f'{taxa_acerto}% de {numero_palavras} das palavras conhecidas\\n'\n",
        "          f'e {taxa_desconhecidas}% das palavras desconhecidas')\n",
        "\n",
        "# Calculando as palavras conecidas\n",
        "vocabulario = set(lista_normalizada)\n",
        "\n",
        "# Chamando a função avaliador()\n",
        "avaliador(lista_teste, vocabulario)"
      ],
      "execution_count": 49,
      "outputs": [
        {
          "output_type": "stream",
          "text": [
            "76.34% de 186 das palavras conhecidas\n",
            "e 6.99% das palavras desconhecidas\n"
          ],
          "name": "stdout"
        }
      ]
    },
    {
      "cell_type": "code",
      "metadata": {
        "id": "W_A5dneUfyuJ",
        "colab_type": "code",
        "colab": {}
      },
      "source": [
        ""
      ],
      "execution_count": 0,
      "outputs": []
    }
  ]
}